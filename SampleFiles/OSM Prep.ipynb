{
 "cells": [
  {
   "cell_type": "code",
   "execution_count": 3,
   "metadata": {
    "collapsed": false
   },
   "outputs": [],
   "source": [
    "import xml.etree.ElementTree as ET  # Use cElementTree or lxml if too slow\n",
    "\n",
    "OSM_FILE = \"osm/new-york_new-york.osm\"  # Replace this with your osm file\n",
    "SAMPLE_FILE = \"osm/sample.osm\"\n",
    "\n",
    "k = 1000 # Parameter: take every k-th top level element\n",
    "\n",
    "def get_element(osm_file, tags=('node', 'way', 'relation')):\n",
    "    \"\"\"Yield element if it is the right type of tag\n",
    "\n",
    "    Reference:\n",
    "    http://stackoverflow.com/questions/3095434/inserting-newlines-in-xml-file-generated-via-xml-etree-elementtree-in-python\n",
    "    \"\"\"\n",
    "    context = iter(ET.iterparse(osm_file, events=('start', 'end')))\n",
    "    _, root = next(context)\n",
    "    for event, elem in context:\n",
    "        if event == 'end' and elem.tag in tags:\n",
    "            yield elem\n",
    "            root.clear()\n",
    "\n",
    "\n",
    "with open(SAMPLE_FILE, 'wb') as output:\n",
    "    output.write('<?xml version=\"1.0\" encoding=\"UTF-8\"?>\\n')\n",
    "    output.write('<osm>\\n  ')\n",
    "\n",
    "    # Write every kth top level element\n",
    "    for i, element in enumerate(get_element(OSM_FILE)):\n",
    "        if i % k == 0:\n",
    "            output.write(ET.tostring(element, encoding='utf-8'))\n",
    "\n",
    "    output.write('</osm>')"
   ]
  },
  {
   "cell_type": "code",
   "execution_count": null,
   "metadata": {
    "collapsed": true
   },
   "outputs": [],
   "source": [
    "from __future__ import division\n",
    "def increment_field_occurances(node,parent,tags):\n",
    "    for key in node:\n",
    "        location = parent + key\n",
    "        #print key, node[key]\n",
    "        if isinstance (node[key],dict): \n",
    "            #print \"found dict for \", key\n",
    "            increment_field_occurances(node[key] , location + \".\", tags)\n",
    "        else:\n",
    "            if location not in tags: tags[location] = 0\n",
    "            tags[location]=tags[location]+1\n",
    "\n",
    "def convert_to_ratio(counts, denominator):\n",
    "    ratios = {}\n",
    "    for key in counts:\n",
    "        ratios[key]=round(counts[key]/denominator , 4)\n",
    "    return ratios\n",
    "            \n",
    "def field_exists_ratio(jsonFile):\n",
    "    f = open(jsonFile)\n",
    "    tags = defaultdict(set)\n",
    "    n = 0\n",
    "    for line in iter(f):\n",
    "        #print line\n",
    "        node = json.loads(line)\n",
    "        n = n+1\n",
    "        increment_field_occurances(node, '', tags)\n",
    "    f.close()\n",
    "    ratios = convert_to_ratio(dict(tags), n)\n",
    "    pprint.pprint (ratios)\n",
    "    \n",
    "field_exists_ratio(filename + '.json')"
   ]
  },
  {
   "cell_type": "code",
   "execution_count": null,
   "metadata": {
    "collapsed": true
   },
   "outputs": [],
   "source": [
    "\n",
    "'''\n",
    "db.sample.update_many( {\"address.postcode\" : {\"$exists\" : True } },\n",
    "                   {\"$set\": {\n",
    "                       \"address.postcode\": str(\"$address.postcode\") }\n",
    "                    } )\n",
    "'''\n",
    "\n",
    "x = db.sample.find({\"address.postcode\" : { \"$exists\" : True } })\n",
    "#for result_object in x:\n",
    "#    print result_object \n",
    "db.sample.find_one({\"address.postcode\" : { \"$exists\" : True } })"
   ]
  }
 ],
 "metadata": {
  "kernelspec": {
   "display_name": "Python 2",
   "language": "python",
   "name": "python2"
  },
  "language_info": {
   "codemirror_mode": {
    "name": "ipython",
    "version": 2
   },
   "file_extension": ".py",
   "mimetype": "text/x-python",
   "name": "python",
   "nbconvert_exporter": "python",
   "pygments_lexer": "ipython2",
   "version": "2.7.11"
  }
 },
 "nbformat": 4,
 "nbformat_minor": 0
}
