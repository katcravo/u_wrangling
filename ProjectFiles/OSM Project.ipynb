{
 "cells": [
  {
   "cell_type": "code",
   "execution_count": 1,
   "metadata": {
    "collapsed": true
   },
   "outputs": [],
   "source": [
    "\n",
    "import xml.etree.cElementTree as ET\n",
    "import pprint\n",
    "from collections import defaultdict\n",
    "\n",
    "filename = 'osm/new-york_new-york.osm'\n"
   ]
  },
  {
   "cell_type": "code",
   "execution_count": 2,
   "metadata": {
    "collapsed": false
   },
   "outputs": [
    {
     "name": "stdout",
     "output_type": "stream",
     "text": [
      "opened_file\n",
      "{'bounds': 1,\n",
      " 'member': 100531,\n",
      " 'nd': 12155810,\n",
      " 'node': 9412590,\n",
      " 'osm': 1,\n",
      " 'relation': 8351,\n",
      " 'tag': 8709038,\n",
      " 'way': 1538707}\n"
     ]
    }
   ],
   "source": [
    "#!/usr/bin/env python\n",
    "# -*- coding: utf-8 -*-\n",
    "\"\"\"\n",
    "Get a list of all the tags and their count\n",
    "\"\"\"\n",
    "\n",
    "def count_tags(filename):\n",
    "    osm_file = open(filename, \"r\")\n",
    "    print ('opened_file')\n",
    "    tagsdict = defaultdict (lambda: 0)\n",
    "    #for event, elem in ET.iterparse(osm_file, events=('start', )):\n",
    "    #    tagsdict[elem.tag]=tagsdict[elem.tag]+1\n",
    "    \n",
    "    context = iter(ET.iterparse(osm_file, events=('start', 'end')))\n",
    "    _, root = next(context)\n",
    "    for event, elem in context:\n",
    "        if event == 'end':\n",
    "            tagsdict[elem.tag]=tagsdict[elem.tag]+1\n",
    "            root.clear()\n",
    "    return dict(tagsdict)\n",
    "\n",
    "tags = count_tags(filename)\n",
    "pprint.pprint(tags)    \n"
   ]
  },
  {
   "cell_type": "code",
   "execution_count": 3,
   "metadata": {
    "collapsed": false
   },
   "outputs": [
    {
     "name": "stdout",
     "output_type": "stream",
     "text": [
      "{'lower': 3458235,\n",
      " 'lower_colon': 5121360,\n",
      " 'other': 104450,\n",
      " 'problemchars': 24993}\n"
     ]
    }
   ],
   "source": [
    "#!/usr/bin/env python\n",
    "# -*- coding: utf-8 -*-\n",
    "\"\"\"\n",
    "check that the tag keys are valid chars\n",
    "\"\"\"\n",
    "import re\n",
    "lower = re.compile(r'^([a-z]|_)*$')\n",
    "lower_colon = re.compile(r'^([a-z]|_)*:([a-z]|_)*$')\n",
    "problemchars = re.compile(r'[=\\+/&<>;\\'\"\\?%#$@\\,\\. \\t\\r\\n]')\n",
    "keys = {\"lower\": 0, \"lower_colon\": 0, \"problemchars\": 0, \"other\": 0}\n",
    "\n",
    "\n",
    "osm_file = open(filename, \"r\")\n",
    "context = iter(ET.iterparse(osm_file, events=('start', 'end')))\n",
    "_, root = next(context)\n",
    "for event, element in context:\n",
    "    if event == 'end':\n",
    "        if element.tag == \"tag\":\n",
    "            key = element.attrib['k']\n",
    "            whichCase = \"other\"\n",
    "            if (lower.match(key)): whichCase = \"lower\"\n",
    "            elif (lower_colon.match(key)): whichCase = \"lower_colon\"\n",
    "            elif (problemchars.search(key)): whichCase = \"problemchars\"\n",
    "            #print key, whichCase\n",
    "            keys [whichCase] = keys [whichCase] + 1\n",
    "    root.clear()\n",
    "    \n",
    "pprint.pprint(keys)"
   ]
  },
  {
   "cell_type": "code",
   "execution_count": 4,
   "metadata": {
    "collapsed": true
   },
   "outputs": [],
   "source": [
    "\"\"\"\n",
    "Audit Street Types\n",
    "\"\"\"\n",
    "import xml.etree.cElementTree as ET\n",
    "from collections import defaultdict\n",
    "import re\n",
    "import pprint\n",
    "\n",
    "street_type_re = re.compile(r'\\b\\S+\\.?$', re.IGNORECASE)\n",
    "first_word_re = re.compile(r'^\\w+', re.IGNORECASE)\n",
    "old_expected = [\"Street\", \"Avenue\", \"Boulevard\", \"Drive\", \"Court\", \"Place\", \"Square\", \"Lane\", \"Road\", \n",
    "            \"Trail\", \"Parkway\", \"Commons\"]\n",
    "expected = [\"Street\", \"Avenue\", \"Boulevard\", \"Drive\", \"Court\", \"Place\", \"Square\", \"Lane\", \"Road\", \n",
    "            \"Trail\", \"Parkway\", \"Commons\", \"Terrace\", \"Loop\", \"Highway\", \"Course\", \"Circle\", \"Way\", \"Crescent\", \"Walk\",\n",
    "           \"Turnpike\", \"Bridge\", \"Causeway\", \"Gate\", \"Cove\", \"Alley\", \"Thruway\", \"Hill\", \"Piers\", \"Quadrangle\",\n",
    "            \"Mews\", \"Path\", \"Run\", \"Expressway\", \"Freeway\",\n",
    "           \"Broadway\", \"Bowery\", \"\"]\n",
    "expected_first = [\"Avenue\", \"Route\"]\n",
    "extra_suffix = [\"North\", \"East\", \"West\", \"South\", \"north\", \"EAST\", ]\n",
    "\n",
    "\n",
    "\"\"\"\n",
    "Add street name to a list if the street type appears invalid\n",
    "\"\"\"\n",
    "def audit_street_type(street_types, street_name):\n",
    "    m = street_type_re.search(street_name)\n",
    "    if m:\n",
    "        street_type = m.group()\n",
    "        if street_type not in expected:\n",
    "            #print 'Found', street_type\n",
    "            if street_type_first(street_name): return\n",
    "            else: street_types[street_type].add(street_name)\n",
    "\n",
    "\"\"\"\n",
    "Function to check street valid, where the street type is first, like 'Avenue B'\n",
    "\"\"\"            \n",
    "def street_type_first(street_name):\n",
    "    #print 'Check first', street_name\n",
    "    m = first_word_re.search(street_name)\n",
    "    if m:\n",
    "        if m.group() in expected_first:\n",
    "            #print 'Found Street Type first for', street_name\n",
    "            return True\n",
    "    return False\n",
    "            "
   ]
  },
  {
   "cell_type": "code",
   "execution_count": 5,
   "metadata": {
    "collapsed": true
   },
   "outputs": [],
   "source": [
    "def is_street_name(elem):\n",
    "    return (elem.attrib['k'] == \"addr:street\")\n",
    "\n",
    "\n",
    "\"\"\"\n",
    "Review the file for invalid street types\n",
    "\"\"\"\n",
    "def audit_street_types_in_file(osmfile):\n",
    "    street_types = defaultdict(set)\n",
    "    osm_file = open(filename, \"r\")\n",
    "    context = iter(ET.iterparse(osm_file, events=('start', 'end')))\n",
    "    _, root = next(context)\n",
    "    for event, elem in context:\n",
    "        if event == 'end':\n",
    "\n",
    "            if elem.tag == \"node\" or elem.tag == \"way\":\n",
    "                for tag in elem.iter(\"tag\"):\n",
    "                    if is_street_name(tag):\n",
    "                        #print tag.attrib['k'], tag.attrib['v']\n",
    "                        audit_street_type(street_types, tag.attrib['v'])\n",
    "        root.clear()\n",
    "    osm_file.close()\n",
    "    return street_types\n",
    "\n",
    "\n",
    "\"\"\"\n",
    "Handle Scenarios where street type is followed by a suffix, such as South\n",
    "\"\"\"    \n",
    "def process_suffix (name, mapping):\n",
    "    split_name = name.split(' ')\n",
    "    if len(split_name) > 2 and split_name[-1] in extra_suffix:\n",
    "        #print \"Has a valid suffix \", name\n",
    "        return update_name(name.rsplit(' ', 1)[0], mapping) + ' ' + split_name[-1] \n",
    "    return None"
   ]
  },
  {
   "cell_type": "code",
   "execution_count": 6,
   "metadata": {
    "collapsed": true
   },
   "outputs": [],
   "source": [
    "\"\"\"\n",
    "Run the functions to process the osm xml file and print out any improved addresses\n",
    "\"\"\"\n",
    "unexpected_st_types = audit_street_types_in_file(filename)"
   ]
  },
  {
   "cell_type": "code",
   "execution_count": 7,
   "metadata": {
    "collapsed": false
   },
   "outputs": [
    {
     "name": "stdout",
     "output_type": "stream",
     "text": [
      "220\n"
     ]
    }
   ],
   "source": [
    "pprint.pprint(len(dict(unexpected_st_types)))"
   ]
  },
  {
   "cell_type": "code",
   "execution_count": 8,
   "metadata": {
    "collapsed": true
   },
   "outputs": [],
   "source": [
    "mapping = { \"Rd\" : \"Road\",\n",
    "    \"Steet\" : \"Street\",\n",
    "    \"STREET\" : \"Street\",\n",
    "    \"avenue\" : \"Avenue\",\n",
    "    \"ROAD\" : \"Road\",\n",
    "    \"Pkwy\" : \"Parkway\",\n",
    "    \"Cir\" : \"Circle\",\n",
    "    \"AVenue\" : \"Avenue\",\n",
    "    \"Tunrpike\" : \"Turnpike\",\n",
    "    \"Broadwat\" : \"Broadway\",\n",
    "    \"CIRCLE\" : \"Circle\",\n",
    "    \"Turnlike\" : \"Turnpike\",\n",
    "    \"street\" : \"Street\",\n",
    "    \"Dr.\" : \"Drive\",\n",
    "    \"Aveneu\" : \"Avenue\",\n",
    "    \"Ave.\" : \"Avenue\",\n",
    "    \"Avenue,\" : \"Avenue\",\n",
    "    \"Streeet\" : \"Street\",\n",
    "    \"Pky\" : \"Parkway\",\n",
    "    \"PLACE\" : \"Place\",\n",
    "    \"CT)\" : \"Court\",\n",
    "    \"road\" : \"Road\",\n",
    "    \"St.\" : \"Street\",\n",
    "    \"Tirnpike\" : \"Turnpike\",\n",
    "    \"LANE\" : \"Lane\",\n",
    "    \"boulevard\" : \"Boulevard\",\n",
    "    \"Ave,\" : \"Avenue\",\n",
    "    \"Avene\" : \"Avenue\",\n",
    "    \"AVE.\" : \"Avenue\",\n",
    "    \"Tpke\" : \"Turnpike\",\n",
    "    \"PARKWAY\" : \"Parkway\",\n",
    "    \"Hwy\" : \"Highway\",\n",
    "    \"Ave\" : \"Avenue\",\n",
    "    \"Blvd.\" : \"Boulevard\",\n",
    "    \"Ct\" : \"Court\",\n",
    "    \"Ln\" : \"Lane\",\n",
    "    \"DRIVE\" : \"Drive\",\n",
    "    \"ave\" : \"Avenue\",\n",
    "    \"blvd\" : \"Boulevard\",\n",
    "    \"Ct.\" : \"Court\",\n",
    "    \"AVENUE\" : \"Avenue\",\n",
    "    \"Blv.\" : \"Boulevard\",\n",
    "    \"Tunpike\" : \"Turnpike\",\n",
    "    \"Dr\" : \"Drive\",\n",
    "    \"Expy\" : \"Expressway\",\n",
    "    \"St\" : \"Street\",\n",
    "    \"lane\" : \"Lane\",\n",
    "    \"ST\" : \"Street\",\n",
    "    \"drive\" : \"Drive\",\n",
    "    \"st\" : \"Street\",\n",
    "    \"Blvd\" : \"Boulevard\"\n",
    "            }"
   ]
  },
  {
   "cell_type": "raw",
   "metadata": {},
   "source": [
    "#omitted to reduce output   orig was used to create above map\n",
    "x = dict(unexpected_st_types)\n",
    "for key in x:\n",
    "    if key not in mapping: print '\"'+ key + '\" : \"\",'"
   ]
  },
  {
   "cell_type": "code",
   "execution_count": 9,
   "metadata": {
    "collapsed": false
   },
   "outputs": [
    {
     "name": "stdout",
     "output_type": "stream",
     "text": [
      "Valley Rd => Valley Road\n",
      "GEORGE STREET => GEORGE Street\n",
      "Bedford avenue => Bedford Avenue\n",
      "NEW ENGLAND AVE. => NEW ENGLAND Avenue\n",
      "SUTPHEN ROAD => SUTPHEN Road\n",
      "Granite Pkwy => Granite Parkway\n",
      "Barron Cir => Barron Circle\n",
      "Wantagh AVenue => Wantagh Avenue\n",
      "South Broadwat => South Broadway\n",
      "GIBBONS CIRCLE => GIBBONS Circle\n",
      "Hempstead Turnlike => Hempstead Turnpike\n",
      "LIPMAN DRIVE => LIPMAN Drive\n",
      "Plaza St West => Plaza Street West\n",
      "Hudson street => Hudson Street\n",
      "N 9th ST => N 9th Street\n",
      "Ridge Dr. => Ridge Drive\n",
      "Marginal St East => Marginal Street East\n",
      "St. Nicholas Aveneu => St. Nicholas Avenue\n",
      "Franklin Ave. => Franklin Avenue\n",
      "70th Avenue, => 70th Avenue\n",
      "Franklin Ave, => Franklin Avenue\n",
      "Anderson Ave => Anderson Avenue\n",
      "Johnson Streeet => Johnson Street\n",
      "Ellis Pky => Ellis Parkway\n",
      "TITSWORTH PLACE => TITSWORTH Place\n",
      "raider road => raider Road\n",
      "Lafayette St. => Lafayette Street\n",
      "Hempstead Tirnpike => Hempstead Turnpike\n",
      "MARVIN LANE => MARVIN Lane\n",
      "sutphin boulevard => sutphin Boulevard\n",
      "BIEL ROAD EAST => BIEL Road EAST\n",
      "Jericho Tpke => Jericho Turnpike\n",
      "205 W 58th St => 205 W 58th Street\n",
      "West 25th Steet => West 25th Street\n",
      "Riverside Ct. => Riverside Court\n",
      "JFK Blvd. => JFK Boulevard\n",
      "I 95 (CT) => I 95 (Court\n",
      "Orvil Ct => Orvil Court\n",
      "Hempstead Tunrpike => Hempstead Turnpike\n",
      "Jules Ln => Jules Lane\n",
      "northern blvd => northern Boulevard\n",
      "5th ave => 5th Avenue\n",
      "MEMORIAL PARKWAY => MEMORIAL Parkway\n",
      "COMMERCIAL AVENUE => COMMERCIAL Avenue\n",
      "John F. Kennedy Blv. => John F. Kennedy Boulevard\n",
      "Lincoln Hwy => Lincoln Highway\n",
      "Hempstead Tunpike => Hempstead Turnpike\n",
      "Station Dr => Station Drive\n",
      "Van Wyck Expy => Van Wyck Expressway\n",
      "Delancey St South => Delancey Street South\n",
      "Madison Avene => Madison Avenue\n",
      "Post lane => Post Lane\n",
      "119th drive => 119th Drive\n",
      "South 4th st => South 4th Street\n",
      "Marin Blvd => Marin Boulevard\n"
     ]
    }
   ],
   "source": [
    "\"\"\"\n",
    "Get an improved street name by replacing invalid street type where possible\n",
    "\"\"\"\n",
    "def update_name(name, mapping):\n",
    "    m = street_type_re.search(name)\n",
    "    if m:\n",
    "        street_type = m.group()\n",
    "        \n",
    "        #print \"Checking \", name\n",
    "        if street_type in expected: pass\n",
    "        elif street_type in mapping: \n",
    "            #print \"Fixing name \", name\n",
    "            name = street_type_re.sub(mapping[street_type], name)\n",
    "            #print \"Fixed name \", name\n",
    "        else:\n",
    "            processed_suffix = process_suffix(name, mapping)\n",
    "            if processed_suffix != None: return processed_suffix\n",
    "        \n",
    "        return name     \n",
    "\n",
    "\n",
    "for st_type, ways in unexpected_st_types.iteritems():\n",
    "    first = True\n",
    "    for name in ways:\n",
    "        better_name = update_name(name, mapping)\n",
    "        if name != better_name and first: \n",
    "            print name, \"=>\", better_name\n",
    "            first = False\n",
    "        "
   ]
  },
  {
   "cell_type": "code",
   "execution_count": 10,
   "metadata": {
    "collapsed": false
   },
   "outputs": [],
   "source": [
    "\n",
    "\"\"\"\n",
    "This section is the start of the code for shaping the OSM XML to JSON\n",
    "\"\"\"\n",
    "import codecs\n",
    "import json\n",
    "\n",
    "lower = re.compile(r'^([a-z]|_)*$')\n",
    "lower_colon = re.compile(r'^([a-z]|_)*:([a-z]|_)*$')\n",
    "problemchars = re.compile(r'[=\\+/&<>;\\'\"\\?%#$@\\,\\. \\t\\r\\n]')\n",
    "\n",
    "\"\"\"\n",
    "Constants for organizing the elements\n",
    "\"\"\"\n",
    "CREATED = [ \"version\", \"changeset\", \"timestamp\", \"user\", \"uid\"]\n",
    "replace_tags = {'addr':'address', 'type':'type_as_specified'}\n",
    "#has_value_and_children = ['hgv', 'name', 'building', 'railway', 'lanes', 'maxspeed', 'source', 'is_in', 'internet_access', ]\n",
    "has_value_and_children = []"
   ]
  },
  {
   "cell_type": "code",
   "execution_count": 11,
   "metadata": {
    "collapsed": true
   },
   "outputs": [],
   "source": [
    "\"\"\"\n",
    "Process the top level attributes\n",
    "\"\"\"\n",
    "def process_attributes(element):\n",
    "    attributes = {}\n",
    "    created = {}\n",
    "    pos = [None,None]\n",
    "\n",
    "    for attribute in element.attrib:\n",
    "        value = element.attrib[attribute]\n",
    "\n",
    "        #organize elements specified in CREATED to a created element\n",
    "        if attribute in CREATED:\n",
    "            created[attribute] = value\n",
    "\n",
    "        #organize the latitude and longitude to a pos [lat,long] element\n",
    "        elif attribute == 'lat': \n",
    "            try:\n",
    "                pos [0] = float(value)\n",
    "            except ValueError:\n",
    "                print \"Not a float\"                \n",
    "        elif attribute == 'lon':\n",
    "            try:\n",
    "                pos [1] = float(value)\n",
    "            except ValueError:\n",
    "                print \"Not a float\"\n",
    "                \n",
    "        #default assignment \n",
    "        else: attributes[attribute] = value    \n",
    "\n",
    "    #include the organized elements to the dict\n",
    "    attributes['created'] = created\n",
    "    #Note: Iteration 2: this check for None was introduced after initial nyny was analyzed\n",
    "    if None not in pos: attributes['pos'] = pos\n",
    "        \n",
    "    return attributes    \n",
    "\n",
    "def process_refs(element):\n",
    "    node_refs = []\n",
    "    for ref in element.iter(\"nd\"):\n",
    "        node_refs.append(ref.attrib['ref'])\n",
    "    if len(node_refs) > 0 : return {\"node_refs\":node_refs}\n",
    "    return {}\n",
    "\n",
    "\"\"\"\n",
    "Process the list the tag k, v attributes\n",
    "\"\"\"\n",
    "def process_tags(element, found_complex_tag):\n",
    "    tags = {}\n",
    "    for tag in element.iter(\"tag\"):\n",
    "        process_tag(tag.attrib['k'],tag.attrib['v'], tags, found_complex_tag)\n",
    "    return tags"
   ]
  },
  {
   "cell_type": "code",
   "execution_count": 12,
   "metadata": {
    "collapsed": false
   },
   "outputs": [],
   "source": [
    "\"\"\"\n",
    "Translate one tag k, v attribute\n",
    "\"\"\"\n",
    "def process_tag (name, value, tags, found_complex_tag):\n",
    "    #tags[name]=value\n",
    "    #if (name.startswith('hgv')): print name, value\n",
    "    try:\n",
    "        if (name!= None and len(name)>0 and name.strip()!=':' and \n",
    "            name.strip()!='' and not problemchars.search(name)):\n",
    "            \n",
    "            levels = name.split(':')\n",
    "            \n",
    "            #extract the top level key and convert it as needed\n",
    "            top = levels[0]\n",
    "            top = replace_tags.get(top,top)\n",
    "            \n",
    "            #assign value if it's a top level attribute\n",
    "            if len(levels) == 1: \n",
    "                if top not in tags: tags[top] = value\n",
    "                else: \n",
    "                    print top, value, ' other value already found as ', tags[top]\n",
    "                \n",
    "            #add to address dict if there are two levels\n",
    "            elif top=='address' and len(levels) == 2:\n",
    "                if 'address' not in tags: tags['address']={}                    \n",
    "                if not isinstance(tags['address'],dict): \n",
    "                    #print 'address:', name, value, ' overwriting simple value already found as ', tags['address']\n",
    "                    tags['address']={}\n",
    "                process_tag (levels[1],value,tags['address'], found_complex_tag)\n",
    "                \n",
    "            #add to a dict if there are multiple levels\n",
    "            elif top!='address' and len(levels) > 1:\n",
    "                if top in has_value_and_children: top = top + \"_data\"\n",
    "                elif top in tags and not isinstance(tags[top],dict): \n",
    "                    #a root value was already found for this tag.\n",
    "                    #print name, value, ' unexpected - simple value already found as ', top, tags[top]\n",
    "                    found_complex_tag.add(top)\n",
    "                    return\n",
    "                if top not in tags: tags[top]={}                    \n",
    "                process_tag (name.split(':', 1)[1], value, tags[top], found_complex_tag)\n",
    "                \n",
    "    except Exception, e:\n",
    "        print \"Failed: %s\" % e\n",
    "        print 'Exception', name, value\n",
    "        pprint.pprint(tags)\n",
    "        return"
   ]
  },
  {
   "cell_type": "code",
   "execution_count": 13,
   "metadata": {
    "collapsed": true
   },
   "outputs": [],
   "source": [
    "\"\"\"\n",
    "Modify the given tags dict and fix street name in address\n",
    "\"\"\"\n",
    "street_tags = ['street']\n",
    "def fix_street(tags):\n",
    "    if 'address' in tags:\n",
    "        addr = tags['address']\n",
    "        for key in addr:\n",
    "            if key in street_tags:\n",
    "                #print 'checking', addr[key]\n",
    "                addr[key] = update_name(addr[key], mapping)"
   ]
  },
  {
   "cell_type": "code",
   "execution_count": 14,
   "metadata": {
    "collapsed": true
   },
   "outputs": [],
   "source": [
    "\"\"\"\n",
    "Translation method for convering one OSM XML entry to a dict as per specs\n",
    "\"\"\"\n",
    "def shape_element(element, found_complex_tag):\n",
    "    node = {}\n",
    "    if element.tag == \"node\" or element.tag == \"way\" :\n",
    "        node['type']=element.tag        \n",
    "        refs = process_refs(element)\n",
    "        node.update(refs)\n",
    "        attrs = process_attributes(element)    \n",
    "        node.update(attrs)\n",
    "        tags = process_tags(element, found_complex_tag)\n",
    "        fix_street(tags)\n",
    "        node.update(tags)\n",
    "              \n",
    "        #pprint.pprint( node )\n",
    "        return node\n",
    "    else:\n",
    "        return None"
   ]
  },
  {
   "cell_type": "code",
   "execution_count": 15,
   "metadata": {
    "collapsed": false
   },
   "outputs": [
    {
     "name": "stdout",
     "output_type": "stream",
     "text": [
      "set(['inscription', 'maxspeed', 'bicycle', 'proposed', 'bridge', 'social_facility', 'community', 'alt_name', 'parking', 'operator', 'is_in', 'toilets', 'scale', 'capacity', 'aerialway', 'hgv', 'opening_hours', 'destination', 'wikipedia', 'feature', 'handrail', 'cycleway', 'access', 'source', 'toll', 'ref', 'highway', 'FIXME', 'animal_keeping', 'lanes', 'description', 'short_name', 'heritage', 'electrified', 'denomination', 'historic', 'old_name', 'smoking', 'sidewalk', 'population', 'building', 'odbl', 'deelectrified', 'name', 'tunnel', 'wheelchair', 'ramp', 'oneway', 'railway', 'disused', 'internet_access'])\n"
     ]
    }
   ],
   "source": [
    "\"\"\"\n",
    "Parse an OSM XML file and call shape_element for each entry,\n",
    "the shaped element is written to a file in json format\n",
    "\"\"\"\n",
    "def check_has_value_and_children(file_in, pretty = False):\n",
    "    #data = []\n",
    "    found_complex_tag = set()\n",
    "    osm_file = open(filename, \"r\")\n",
    "    context = iter(ET.iterparse(osm_file, events=('start', 'end')))\n",
    "    _, root = next(context)\n",
    "    for event, elem in context:\n",
    "        if event == 'end':\n",
    "            el = shape_element(elem, found_complex_tag)\n",
    "        root.clear()\n",
    "    return found_complex_tag\n",
    "has_value_and_children = check_has_value_and_children(filename, False)\n",
    "print has_value_and_children"
   ]
  },
  {
   "cell_type": "code",
   "execution_count": 16,
   "metadata": {
    "collapsed": true
   },
   "outputs": [],
   "source": [
    "\"\"\"\n",
    "Parse an OSM XML file and call shape_element for each entry,\n",
    "the shaped element is written to a file in json format\n",
    "\"\"\"\n",
    "def process_map(file_in, pretty = False):\n",
    "    file_out = \"{0}.json\".format(file_in)\n",
    "    #data = []\n",
    "    with codecs.open(file_out, \"w\") as fo:\n",
    "        osm_file = open(filename, \"r\")\n",
    "        context = iter(ET.iterparse(osm_file, events=('start', 'end')))\n",
    "        _, root = next(context)\n",
    "        for event, elem in context:\n",
    "            if event == 'end':\n",
    "                el = shape_element(elem, set())\n",
    "                if el:\n",
    "                    #data.append(el)\n",
    "                    if pretty:\n",
    "                        fo.write(json.dumps(el, indent=2)+\"\\n\")\n",
    "                    else:\n",
    "                        fo.write(json.dumps(el) + \"\\n\")\n",
    "            root.clear()\n",
    "    #return data"
   ]
  },
  {
   "cell_type": "code",
   "execution_count": 17,
   "metadata": {
    "collapsed": false
   },
   "outputs": [],
   "source": [
    "\"\"\"\n",
    "******************  GENERATING THE JSON FILE ****************************\n",
    "\"\"\"\n",
    "process_map(filename, False)"
   ]
  },
  {
   "cell_type": "code",
   "execution_count": null,
   "metadata": {
    "collapsed": true
   },
   "outputs": [],
   "source": [
    "\"\"\"\n",
    "******************  ADDITIONAL AUDITS USING THE JSON FILE ****************************\n",
    "\"\"\"\n",
    "\n",
    "import json\n",
    "\n",
    "\"\"\"\n",
    "Extract the tags of a particular entry and add it to a set for tracking locations of a tag name\n",
    "\"\"\"\n",
    "def extract_tags(node,parent,tags):\n",
    "    for key in node:\n",
    "        if isinstance (node[key],dict): \n",
    "            extract_tags(node[key] , parent + key + \".\", tags)\n",
    "        else:\n",
    "            if key not in tags: tags[key] = set()\n",
    "            tags[key].add( parent+key )\n",
    "\n",
    "\"\"\"\n",
    "Iterate through a file with json entries and capture each tag name's location within documents\n",
    "\"\"\"\n",
    "def check_for_unique_tags(jsonFile):\n",
    "    f = open(jsonFile)\n",
    "    tags = defaultdict(set)\n",
    "    for line in iter(f):\n",
    "        #print line\n",
    "        node = json.loads(line)\n",
    "        extract_tags(node, '', tags)\n",
    "    f.close()\n",
    "    #pprint.pprint (dict(tags))\n",
    "    multis = {k: v for k, v in (dict(tags)).items() if len(tags[k])>1}\n",
    "    pprint.pprint (multis)\n",
    "    "
   ]
  },
  {
   "cell_type": "code",
   "execution_count": null,
   "metadata": {
    "collapsed": false
   },
   "outputs": [],
   "source": [
    "check_for_unique_tags(filename + '.json')"
   ]
  },
  {
   "cell_type": "code",
   "execution_count": null,
   "metadata": {
    "collapsed": true
   },
   "outputs": [],
   "source": [
    "\"\"\"\n",
    "These functions are for checking the data type.  It's helpful for seeing the quality of the data.\n",
    "For example, zip code resolving to integer meant they were all proper digits\n",
    "And if there are fields with both array and single values, then this would help identify, but \n",
    "since I formatted these json records, I didn't have a problem with array/single value types.\n",
    "\"\"\"\n",
    "\n",
    "def isfloat(value):\n",
    "  try:\n",
    "    float(value)\n",
    "    return True\n",
    "  except:\n",
    "    return False\n",
    "\n",
    "def isint(value):\n",
    "  try:\n",
    "    int(value)\n",
    "    return True\n",
    "  except:\n",
    "    return False\n",
    "\n",
    "\n",
    "def get_data_type(value):\n",
    "    if value == \"\" or value == \"NULL\":\n",
    "        return type(None)\n",
    "    elif type(value) is list:\n",
    "        return type([])\n",
    "    elif isint(value):\n",
    "        return type(int())\n",
    "    elif isfloat(value):\n",
    "        return type(float())\n",
    "    else:\n",
    "        return type(str())\n",
    "\n",
    "\n",
    "def extract_data_types(node,parent,tags):\n",
    "    for key in node:\n",
    "        location = parent + key\n",
    "        if isinstance (node[key],dict): \n",
    "            extract_data_types(node[key] , location + \".\", tags)\n",
    "        else:\n",
    "            if location not in tags: tags[location] = set()\n",
    "            tags[location].add( get_data_type(node[key]) )\n",
    "\n",
    "def audit_data_types_in_file(jsonFile):\n",
    "    f = open(jsonFile)\n",
    "    tags = defaultdict(set)\n",
    "    for line in iter(f):\n",
    "        node = json.loads(line)\n",
    "        extract_data_types(node, '', tags)\n",
    "    f.close()\n",
    "    return dict(tags)\n",
    "   "
   ]
  },
  {
   "cell_type": "code",
   "execution_count": null,
   "metadata": {
    "collapsed": false
   },
   "outputs": [],
   "source": [
    "import json \n",
    "data_types = audit_data_types_in_file(filename + '.json')"
   ]
  },
  {
   "cell_type": "code",
   "execution_count": null,
   "metadata": {
    "collapsed": false
   },
   "outputs": [],
   "source": [
    "pprint.pprint(data_types['address.postcode'])"
   ]
  },
  {
   "cell_type": "raw",
   "metadata": {},
   "source": [
    "\n",
    "******************  MONGO IMPORT ****************************\n",
    "\n",
    "C:\\mongodb24\\mongodb-win32-x86_64-2008plus-2.4.3\\bin>mongoimport -d osm -c nyny --file C:\\Users\\Kathleen\\Documents\\udacity\\wrangling\\osm\\new-york_new-york.osm.json\n",
    "\n",
    "...\n",
    "Sun Nov 13 22:47:16.005                 Progress: 2586676224/2621841121 98%\n",
    "Sun Nov 13 22:47:16.005                         10880200        9411/second\n",
    "Sun Nov 13 22:47:19.002                 Progress: 2595949478/2621841121 99%\n",
    "Sun Nov 13 22:47:19.002                         10908500        9411/second\n",
    "Sun Nov 13 22:47:22.005                 Progress: 2605725814/2621841121 99%\n",
    "Sun Nov 13 22:47:22.005                         10936400        9411/second\n",
    "Sun Nov 13 22:47:23.601 check 9 10951297\n",
    "Sun Nov 13 22:47:23.639 imported 10951297 objects"
   ]
  },
  {
   "cell_type": "code",
   "execution_count": 1,
   "metadata": {
    "collapsed": false
   },
   "outputs": [
    {
     "data": {
      "text/plain": [
       "{u'_id': ObjectId('58292f4103fb1722a45a65fb'),\n",
       " u'created': {u'changeset': u'41015803',\n",
       "  u'timestamp': u'2016-07-25T17:17:46Z',\n",
       "  u'uid': u'326503',\n",
       "  u'user': u'wambag',\n",
       "  u'version': u'4'},\n",
       " u'id': u'26769789',\n",
       " u'pos': [40.6995927, -74.1868914],\n",
       " u'type': u'node'}"
      ]
     },
     "execution_count": 1,
     "metadata": {},
     "output_type": "execute_result"
    }
   ],
   "source": [
    "def get_db():\n",
    "    from pymongo import MongoClient\n",
    "    client = MongoClient('localhost:27017')\n",
    "    # 'examples' here is the database name. It will be created if it does not exist.\n",
    "    db = client.osm\n",
    "    return db\n",
    "\n",
    "db = get_db()\n",
    "db.nyny.find_one()\n"
   ]
  },
  {
   "cell_type": "code",
   "execution_count": 3,
   "metadata": {
    "collapsed": false
   },
   "outputs": [
    {
     "data": {
      "text/plain": [
       "{u'_id': ObjectId('58292f4203fb1722a45a7ea9'),\n",
       " u'address': {u'city': u'New York',\n",
       "  u'housenumber': u'244',\n",
       "  u'postcode': u'10001',\n",
       "  u'street': u'5th Avenue'},\n",
       " u'contact': {u'email': u'ny@infrontweb.com',\n",
       "  u'facebook': u'https://www.facebook.com/infrontweb',\n",
       "  u'google_plus': u'https://plus.google.com/+Infrontweb/posts',\n",
       "  u'phone': u'(646) 395-9884',\n",
       "  u'twitter': u'https://twitter.com/infrontweb',\n",
       "  u'website': u'http://infrontweb.com/'},\n",
       " u'created': {u'changeset': u'36034386',\n",
       "  u'timestamp': u'2015-12-18T19:38:30Z',\n",
       "  u'uid': u'251543',\n",
       "  u'user': u'ChrissW-R1',\n",
       "  u'version': u'9'},\n",
       " u'description': u'infrontweb is a full service marketing agency offering ecommerce and custom web design to businesses in New York, the continental United States and internationally since 1997. For the past 15 year',\n",
       " u'id': u'42465563',\n",
       " u'name': u'Infront Web',\n",
       " u'pos': [40.6286801, -74.0229613],\n",
       " u'service': u'Seo New York,Web design New York,website design NY,Iphone App Developer New York,Iphone Application Developer New York,search engine optimization services new york,',\n",
       " u'type': u'node'}"
      ]
     },
     "execution_count": 3,
     "metadata": {},
     "output_type": "execute_result"
    }
   ],
   "source": [
    "db.nyny.find_one({\"address.postcode\" : { \"$exists\" : True } })"
   ]
  },
  {
   "cell_type": "code",
   "execution_count": 20,
   "metadata": {
    "collapsed": false
   },
   "outputs": [
    {
     "name": "stdout",
     "output_type": "stream",
     "text": [
      "10951297\n"
     ]
    }
   ],
   "source": [
    "size = db.nyny.count()\n",
    "print size"
   ]
  },
  {
   "cell_type": "code",
   "execution_count": 21,
   "metadata": {
    "collapsed": false
   },
   "outputs": [
    {
     "name": "stdout",
     "output_type": "stream",
     "text": [
      "[{u'count': 1, u'_id': u'(718) 778-0140'}, {u'count': 25, u'_id': u'06807'}, {u'count': 17, u'_id': u'06820'}, {u'count': 22, u'_id': u'06830'}, {u'count': 8, u'_id': u'06831'}, {u'count': 2, u'_id': u'06853'}, {u'count': 3, u'_id': u'06855'}, {u'count': 2, u'_id': u'06870'}, {u'count': 6, u'_id': u'06878'}, {u'count': 1, u'_id': u'06880'}, {u'count': 6, u'_id': u'06901'}, {u'count': 44, u'_id': u'06902'}, {u'count': 1, u'_id': u'06904'}, {u'count': 9, u'_id': u'06905'}, {u'count': 10, u'_id': u'06906'}, {u'count': 1, u'_id': u'06907'}, {u'count': 1, u'_id': u'07001'}, {u'count': 2, u'_id': u'07002'}, {u'count': 17, u'_id': u'07003'}, {u'count': 2, u'_id': u'07004'}, {u'count': 2, u'_id': u'07006'}, {u'count': 1, u'_id': u'07007'}, {u'count': 4, u'_id': u'07008'}, {u'count': 2, u'_id': u'07010'}, {u'count': 1, u'_id': u'07011'}, {u'count': 3, u'_id': u'07012'}, {u'count': 2, u'_id': u'07013'}, {u'count': 6, u'_id': u'07016'}, {u'count': 7, u'_id': u'07020'}, {u'count': 43, u'_id': u'07024'}, {u'count': 4, u'_id': u'07027'}, {u'count': 3, u'_id': u'07028'}, {u'count': 19, u'_id': u'07030'}, {u'count': 1, u'_id': u'07030-5774'}, {u'count': 1, u'_id': u'07031'}, {u'count': 1, u'_id': u'07032'}, {u'count': 31, u'_id': u'07033'}, {u'count': 1, u'_id': u'07034'}, {u'count': 1, u'_id': u'07035'}, {u'count': 3, u'_id': u'07036'}, {u'count': 4, u'_id': u'07039'}, {u'count': 14, u'_id': u'07040'}, {u'count': 12, u'_id': u'07041'}, {u'count': 34, u'_id': u'07042'}, {u'count': 111, u'_id': u'07043'}, {u'count': 2, u'_id': u'07045'}, {u'count': 5, u'_id': u'07046'}, {u'count': 3, u'_id': u'07047'}, {u'count': 17, u'_id': u'07050'}, {u'count': 2, u'_id': u'07052'}, {u'count': 2, u'_id': u'07052 '}, {u'count': 15, u'_id': u'07054'}, {u'count': 1, u'_id': u'07054-1396'}, {u'count': 6, u'_id': u'07055'}, {u'count': 1, u'_id': u'07057'}, {u'count': 3, u'_id': u'07059'}, {u'count': 5, u'_id': u'07060'}, {u'count': 2, u'_id': u'07062'}, {u'count': 3, u'_id': u'07064'}, {u'count': 9, u'_id': u'07065'}, {u'count': 7, u'_id': u'07066'}, {u'count': 4, u'_id': u'07067'}, {u'count': 2, u'_id': u'07068'}, {u'count': 4, u'_id': u'07069'}, {u'count': 3, u'_id': u'07070'}, {u'count': 1, u'_id': u'07072'}, {u'count': 2, u'_id': u'07073'}, {u'count': 7, u'_id': u'07076'}, {u'count': 6, u'_id': u'07078'}, {u'count': 8, u'_id': u'07079'}, {u'count': 16, u'_id': u'07080'}, {u'count': 5, u'_id': u'07081'}, {u'count': 8, u'_id': u'07083'}, {u'count': 6, u'_id': u'07086'}, {u'count': 12, u'_id': u'07087'}, {u'count': 28, u'_id': u'07090'}, {u'count': 4, u'_id': u'07092'}, {u'count': 3, u'_id': u'07093'}, {u'count': 2, u'_id': u'07094'}, {u'count': 27, u'_id': u'07095'}, {u'count': 1, u'_id': u'07096'}, {u'count': 1, u'_id': u'07099'}, {u'count': 9, u'_id': u'07102'}, {u'count': 6, u'_id': u'07104'}, {u'count': 4, u'_id': u'07105'}, {u'count': 1, u'_id': u'07107'}, {u'count': 20, u'_id': u'07109'}, {u'count': 3, u'_id': u'07110'}, {u'count': 8, u'_id': u'07111'}, {u'count': 4, u'_id': u'07114'}, {u'count': 4, u'_id': u'07201'}, {u'count': 4, u'_id': u'07202'}, {u'count': 7, u'_id': u'07203'}, {u'count': 1, u'_id': u'07204'}, {u'count': 1, u'_id': u'07205'}, {u'count': 1, u'_id': u'07206'}, {u'count': 1, u'_id': u'07207'}, {u'count': 4, u'_id': u'07208'}, {u'count': 62, u'_id': u'07302'}, {u'count': 1, u'_id': u'07302-4522'}, {u'count': 5, u'_id': u'07304'}, {u'count': 1, u'_id': u'07305'}, {u'count': 1, u'_id': u'07305-9997'}, {u'count': 23, u'_id': u'07306'}, {u'count': 1, u'_id': u'07307'}, {u'count': 3, u'_id': u'07310'}, {u'count': 2, u'_id': u'07311'}, {u'count': 1, u'_id': u'07361'}, {u'count': 9, u'_id': u'07401'}, {u'count': 2, u'_id': u'07405'}, {u'count': 1, u'_id': u'07407'}, {u'count': 12, u'_id': u'07410'}, {u'count': 2, u'_id': u'07417'}, {u'count': 3, u'_id': u'07423'}, {u'count': 3, u'_id': u'07424'}, {u'count': 2, u'_id': u'07430'}, {u'count': 2, u'_id': u'07432'}, {u'count': 1, u'_id': u'07435'}, {u'count': 7, u'_id': u'07436'}, {u'count': 1, u'_id': u'07442'}, {u'count': 5, u'_id': u'07444'}, {u'count': 6, u'_id': u'07446'}, {u'count': 43, u'_id': u'07450'}, {u'count': 3, u'_id': u'07452'}, {u'count': 39, u'_id': u'07457'}, {u'count': 7, u'_id': u'07458'}, {u'count': 2, u'_id': u'07463'}, {u'count': 4, u'_id': u'07470'}, {u'count': 7, u'_id': u'07480'}, {u'count': 3, u'_id': u'07481'}, {u'count': 1, u'_id': u'07501'}, {u'count': 2, u'_id': u'07503'}, {u'count': 3, u'_id': u'07504'}, {u'count': 11, u'_id': u'07505'}, {u'count': 9, u'_id': u'07506'}, {u'count': 1, u'_id': u'07506-1566'}, {u'count': 2, u'_id': u'07508'}, {u'count': 2, u'_id': u'07514'}, {u'count': 5, u'_id': u'07601'}, {u'count': 4, u'_id': u'07604'}, {u'count': 1, u'_id': u'07605'}, {u'count': 2, u'_id': u'07608'}, {u'count': 1, u'_id': u'07620'}, {u'count': 12, u'_id': u'07621'}, {u'count': 2, u'_id': u'07624'}, {u'count': 3, u'_id': u'07627'}, {u'count': 6, u'_id': u'07628'}, {u'count': 2, u'_id': u'07631'}, {u'count': 2, u'_id': u'07632'}, {u'count': 1, u'_id': u'07643'}, {u'count': 1, u'_id': u'07644'}, {u'count': 1, u'_id': u'07646'}, {u'count': 1, u'_id': u'07649'}, {u'count': 1, u'_id': u'07650'}, {u'count': 20, u'_id': u'07652'}, {u'count': 1, u'_id': u'07653'}, {u'count': 2, u'_id': u'07656'}, {u'count': 1, u'_id': u'07657'}, {u'count': 1, u'_id': u'07660'}, {u'count': 1, u'_id': u'07662'}, {u'count': 1, u'_id': u'07663'}, {u'count': 4, u'_id': u'07666'}, {u'count': 2, u'_id': u'07670'}, {u'count': 7, u'_id': u'07675'}, {u'count': 4, u'_id': u'07676'}, {u'count': 1, u'_id': u'07677'}, {u'count': 7, u'_id': u'07701'}, {u'count': 18, u'_id': u'07730'}, {u'count': 2, u'_id': u'07734'}, {u'count': 81, u'_id': u'07735'}, {u'count': 1, u'_id': u'07737'}, {u'count': 2, u'_id': u'07738'}, {u'count': 14, u'_id': u'07747'}, {u'count': 1, u'_id': u'07748'}, {u'count': 3, u'_id': u'07758'}, {u'count': 9, u'_id': u'07834'}, {u'count': 1, u'_id': u'07834-2558'}, {u'count': 1, u'_id': u'07834-2716'}, {u'count': 45, u'_id': u'07901'}, {u'count': 2, u'_id': u'07902'}, {u'count': 10, u'_id': u'07922'}, {u'count': 1, u'_id': u'07927'}, {u'count': 12, u'_id': u'07928'}, {u'count': 8, u'_id': u'07932'}, {u'count': 5, u'_id': u'07933'}, {u'count': 3, u'_id': u'07936'}, {u'count': 7, u'_id': u'07940'}, {u'count': 1, u'_id': u'07940-2747'}, {u'count': 10, u'_id': u'07950'}, {u'count': 1, u'_id': u'07959'}, {u'count': 11, u'_id': u'07960'}, {u'count': 1, u'_id': u'07962'}, {u'count': 7, u'_id': u'07974'}, {u'count': 2, u'_id': u'07980'}, {u'count': 6, u'_id': u'07981'}, {u'count': 1, u'_id': u'08512'}, {u'count': 11, u'_id': u'08812'}, {u'count': 849, u'_id': u'08816'}, {u'count': 25, u'_id': u'08817'}, {u'count': 7, u'_id': u'08818'}, {u'count': 16, u'_id': u'08820'}, {u'count': 20, u'_id': u'08830'}, {u'count': 5, u'_id': u'08831'}, {u'count': 1, u'_id': u'08832'}, {u'count': 31, u'_id': u'08837'}, {u'count': 24, u'_id': u'08840'}, {u'count': 3, u'_id': u'08846'}, {u'count': 3, u'_id': u'08850'}, {u'count': 97, u'_id': u'08854'}, {u'count': 1, u'_id': u'08854-3929'}, {u'count': 1, u'_id': u'08854-5024'}, {u'count': 1, u'_id': u'08854-5602'}, {u'count': 3, u'_id': u'08854-5603'}, {u'count': 3, u'_id': u'08854-5610'}, {u'count': 2, u'_id': u'08854-5622'}, {u'count': 1, u'_id': u'08854-5627'}, {u'count': 1, u'_id': u'08854-5659'}, {u'count': 2, u'_id': u'08854-5695'}, {u'count': 7, u'_id': u'08854-8000'}, {u'count': 2, u'_id': u'08854-8001'}, {u'count': 4, u'_id': u'08854-8002'}, {u'count': 2, u'_id': u'08854-8003'}, {u'count': 1, u'_id': u'08854-8004'}, {u'count': 3, u'_id': u'08854-8006'}, {u'count': 1, u'_id': u'08854-8007'}, {u'count': 2, u'_id': u'08854-8008'}, {u'count': 8, u'_id': u'08854-8009'}, {u'count': 7, u'_id': u'08854-8010'}, {u'count': 7, u'_id': u'08854-8012'}, {u'count': 2, u'_id': u'08854-8014'}, {u'count': 1, u'_id': u'08854-8018'}, {u'count': 5, u'_id': u'08854-8019'}, {u'count': 6, u'_id': u'08854-8020'}, {u'count': 2, u'_id': u'08854-8022'}, {u'count': 1, u'_id': u'08854-8023'}, {u'count': 2, u'_id': u'08854-8025'}, {u'count': 1, u'_id': u'08854-8029'}, {u'count': 1, u'_id': u'08854-8030'}, {u'count': 4, u'_id': u'08854-8031'}, {u'count': 4, u'_id': u'08854-8032'}, {u'count': 2, u'_id': u'08854-8033'}, {u'count': 5, u'_id': u'08854-8035'}, {u'count': 5, u'_id': u'08854-8036'}, {u'count': 5, u'_id': u'08854-8037'}, {u'count': 1, u'_id': u'08854-8038'}, {u'count': 5, u'_id': u'08854-8039'}, {u'count': 9, u'_id': u'08854-8040'}, {u'count': 2, u'_id': u'08854-8041'}, {u'count': 1, u'_id': u'08854-8042'}, {u'count': 1, u'_id': u'08854-8043'}, {u'count': 5, u'_id': u'08854-8045'}, {u'count': 1, u'_id': u'08854-8047'}, {u'count': 1, u'_id': u'08854-8048'}, {u'count': 1, u'_id': u'08854-8049'}, {u'count': 1, u'_id': u'08854-8050'}, {u'count': 1, u'_id': u'08854-8051'}, {u'count': 4, u'_id': u'08854-8052'}, {u'count': 1, u'_id': u'08854-8053'}, {u'count': 1, u'_id': u'08854-8054'}, {u'count': 1, u'_id': u'08854-8055'}, {u'count': 7, u'_id': u'08854-8058'}, {u'count': 1, u'_id': u'08854-8059'}, {u'count': 1, u'_id': u'08854-8060'}, {u'count': 3, u'_id': u'08854-8062'}, {u'count': 10, u'_id': u'08854-8063'}, {u'count': 12, u'_id': u'08854-8064'}, {u'count': 1, u'_id': u'08854-8065'}, {u'count': 3, u'_id': u'08854-8066'}, {u'count': 1, u'_id': u'08854-8067'}, {u'count': 1, u'_id': u'08854-8068'}, {u'count': 1, u'_id': u'08854-8076'}, {u'count': 1, u'_id': u'08855'}, {u'count': 10, u'_id': u'08857'}, {u'count': 2, u'_id': u'08859'}, {u'count': 22, u'_id': u'08861'}, {u'count': 1, u'_id': u'08863'}, {u'count': 25, u'_id': u'08873'}, {u'count': 4, u'_id': u'08879'}, {u'count': 5, u'_id': u'08882'}, {u'count': 4, u'_id': u'08884'}, {u'count': 191, u'_id': u'08901'}, {u'count': 4, u'_id': u'08901-1004'}, {u'count': 1, u'_id': u'08901-1061'}, {u'count': 1, u'_id': u'08901-1062'}, {u'count': 1, u'_id': u'08901-1071'}, {u'count': 1, u'_id': u'08901-1101'}, {u'count': 1, u'_id': u'08901-1106'}, {u'count': 6, u'_id': u'08901-1108'}, {u'count': 2, u'_id': u'08901-1111'}, {u'count': 1, u'_id': u'08901-1115'}, {u'count': 2, u'_id': u'08901-1118'}, {u'count': 1, u'_id': u'08901-1156'}, {u'count': 3, u'_id': u'08901-1163'}, {u'count': 5, u'_id': u'08901-1164'}, {u'count': 3, u'_id': u'08901-1165'}, {u'count': 4, u'_id': u'08901-1166'}, {u'count': 4, u'_id': u'08901-1167'}, {u'count': 5, u'_id': u'08901-1175'}, {u'count': 4, u'_id': u'08901-1176'}, {u'count': 4, u'_id': u'08901-1178'}, {u'count': 1, u'_id': u'08901-1246'}, {u'count': 5, u'_id': u'08901-1248'}, {u'count': 1, u'_id': u'08901-1280'}, {u'count': 5, u'_id': u'08901-1281'}, {u'count': 2, u'_id': u'08901-1282'}, {u'count': 3, u'_id': u'08901-1283'}, {u'count': 3, u'_id': u'08901-1340'}, {u'count': 1, u'_id': u'08901-1400'}, {u'count': 6, u'_id': u'08901-1411'}, {u'count': 3, u'_id': u'08901-1412'}, {u'count': 5, u'_id': u'08901-1414'}, {u'count': 1, u'_id': u'08901-1447'}, {u'count': 3, u'_id': u'08901-1573'}, {u'count': 2, u'_id': u'08901-1582'}, {u'count': 2, u'_id': u'08901-1801'}, {u'count': 1, u'_id': u'08901-1866'}, {u'count': 1, u'_id': u'08901-1900'}, {u'count': 4, u'_id': u'08901-1904'}, {u'count': 2, u'_id': u'08901-1913'}, {u'count': 1, u'_id': u'08901-1918'}, {u'count': 3, u'_id': u'08901-2831'}, {u'count': 3, u'_id': u'08901-2832'}, {u'count': 2, u'_id': u'08901-2866'}, {u'count': 14, u'_id': u'08901-2867'}, {u'count': 1, u'_id': u'08901-2878'}, {u'count': 3, u'_id': u'08901-2882'}, {u'count': 2, u'_id': u'08901-2883'}, {u'count': 3, u'_id': u'08901-2885'}, {u'count': 2, u'_id': u'08901-2890'}, {u'count': 3, u'_id': u'08901-8500'}, {u'count': 8, u'_id': u'08901-8502'}, {u'count': 7, u'_id': u'08901-8503'}, {u'count': 4, u'_id': u'08901-8504'}, {u'count': 6, u'_id': u'08901-8505'}, {u'count': 1, u'_id': u'08901-8507'}, {u'count': 3, u'_id': u'08901-8508'}, {u'count': 2, u'_id': u'08901-8510'}, {u'count': 1, u'_id': u'08901-8511'}, {u'count': 2, u'_id': u'08901-8513'}, {u'count': 1, u'_id': u'08901-8515'}, {u'count': 1, u'_id': u'08901-8517'}, {u'count': 1, u'_id': u'08901-8518'}, {u'count': 3, u'_id': u'08901-8519'}, {u'count': 9, u'_id': u'08901-8520'}, {u'count': 1, u'_id': u'08901-8521'}, {u'count': 4, u'_id': u'08901-8524'}, {u'count': 6, u'_id': u'08901-8525'}, {u'count': 2, u'_id': u'08901-8526'}, {u'count': 2, u'_id': u'08901-8527'}, {u'count': 10, u'_id': u'08901-8528'}, {u'count': 8, u'_id': u'08901-8529'}, {u'count': 1, u'_id': u'08901-8531'}, {u'count': 2, u'_id': u'08901-8532'}, {u'count': 1, u'_id': u'08901-8533'}, {u'count': 2, u'_id': u'08901-8536'}, {u'count': 2, u'_id': u'08901-8537'}, {u'count': 1, u'_id': u'08901-8538'}, {u'count': 2, u'_id': u'08901-8539'}, {u'count': 1, u'_id': u'08901-8540'}, {u'count': 5, u'_id': u'08901-8541'}, {u'count': 2, u'_id': u'08901-8542'}, {u'count': 1, u'_id': u'08901-8543'}, {u'count': 4, u'_id': u'08901-8544'}, {u'count': 3, u'_id': u'08901-8545'}, {u'count': 1, u'_id': u'08901-8546'}, {u'count': 1, u'_id': u'08901-8547'}, {u'count': 1, u'_id': u'08901-8548'}, {u'count': 1, u'_id': u'08901-8549'}, {u'count': 2, u'_id': u'08901-8551'}, {u'count': 1, u'_id': u'08901-8552'}, {u'count': 2, u'_id': u'08901-8553'}, {u'count': 4, u'_id': u'08901-8554'}, {u'count': 2, u'_id': u'08901-8555'}, {u'count': 2, u'_id': u'08901-8556'}, {u'count': 1, u'_id': u'08901-8556;08901'}, {u'count': 7, u'_id': u'08901-8557'}, {u'count': 2, u'_id': u'08901-8558'}, {u'count': 24, u'_id': u'08902'}, {u'count': 2, u'_id': u'08903'}, {u'count': 5, u'_id': u'08904'}, {u'count': 1621, u'_id': u'10001'}, {u'count': 1, u'_id': u'10001-2062'}, {u'count': 1, u'_id': u'100014'}, {u'count': 2426, u'_id': u'10002'}, {u'count': 1, u'_id': u'10002-1013'}, {u'count': 2520, u'_id': u'10003'}, {u'count': 313, u'_id': u'10004'}, {u'count': 206, u'_id': u'10005'}, {u'count': 134, u'_id': u'10006'}, {u'count': 343, u'_id': u'10007'}, {u'count': 1663, u'_id': u'10009'}, {u'count': 935, u'_id': u'10010'}, {u'count': 2794, u'_id': u'10011'}, {u'count': 1, u'_id': u'10011-6832'}, {u'count': 1538, u'_id': u'10012'}, {u'count': 1, u'_id': u'10012-3332'}, {u'count': 2141, u'_id': u'10013'}, {u'count': 2534, u'_id': u'10014'}, {u'count': 1901, u'_id': u'10016'}, {u'count': 1, u'_id': u'10016-0122'}, {u'count': 921, u'_id': u'10017'}, {u'count': 1, u'_id': u'10017-6927'}, {u'count': 950, u'_id': u'10018'}, {u'count': 1, u'_id': u'10018-3883'}, {u'count': 1, u'_id': u'10018-4527'}, {u'count': 1823, u'_id': u'10019'}, {u'count': 58, u'_id': u'10020'}, {u'count': 1712, u'_id': u'10021'}, {u'count': 1574, u'_id': u'10022'}, {u'count': 1695, u'_id': u'10023'}, {u'count': 2411, u'_id': u'10024'}, {u'count': 2473, u'_id': u'10025'}, {u'count': 1378, u'_id': u'10026'}, {u'count': 2759, u'_id': u'10027'}, {u'count': 1687, u'_id': u'10028'}, {u'count': 1931, u'_id': u'10029'}, {u'count': 1391, u'_id': u'10030'}, {u'count': 2058, u'_id': u'10031'}, {u'count': 1388, u'_id': u'10032'}, {u'count': 1314, u'_id': u'10033'}, {u'count': 907, u'_id': u'10034'}, {u'count': 1693, u'_id': u'10035'}, {u'count': 1411, u'_id': u'10036'}, {u'count': 366, u'_id': u'10037'}, {u'count': 643, u'_id': u'10038'}, {u'count': 501, u'_id': u'10039'}, {u'count': 796, u'_id': u'10040'}, {u'count': 55, u'_id': u'10044'}, {u'count': 1, u'_id': u'10045'}, {u'count': 4, u'_id': u'10048'}, {u'count': 3, u'_id': u'10055'}, {u'count': 1709, u'_id': u'10065'}, {u'count': 32, u'_id': u'10069'}, {u'count': 797, u'_id': u'10075'}, {u'count': 1, u'_id': u'10103'}, {u'count': 1, u'_id': u'10107'}, {u'count': 1, u'_id': u'1011'}, {u'count': 1, u'_id': u'10110'}, {u'count': 6, u'_id': u'10111'}, {u'count': 4, u'_id': u'10115'}, {u'count': 1, u'_id': u'10121'}, {u'count': 1, u'_id': u'10123'}, {u'count': 1692, u'_id': u'10128'}, {u'count': 3, u'_id': u'10152'}, {u'count': 2, u'_id': u'10153'}, {u'count': 3, u'_id': u'10154'}, {u'count': 1, u'_id': u'10155'}, {u'count': 1, u'_id': u'10168'}, {u'count': 1, u'_id': u'10169'}, {u'count': 1, u'_id': u'10174'}, {u'count': 2, u'_id': u'10275'}, {u'count': 39, u'_id': u'10280'}, {u'count': 9, u'_id': u'10281'}, {u'count': 36, u'_id': u'10282'}, {u'count': 7900, u'_id': u'10301'}, {u'count': 4201, u'_id': u'10302'}, {u'count': 5888, u'_id': u'10303'}, {u'count': 9112, u'_id': u'10304'}, {u'count': 10567, u'_id': u'10305'}, {u'count': 16186, u'_id': u'10306'}, {u'count': 3927, u'_id': u'10307'}, {u'count': 8627, u'_id': u'10308'}, {u'count': 9296, u'_id': u'10309'}, {u'count': 6087, u'_id': u'10310'}, {u'count': 17841, u'_id': u'10312'}, {u'count': 23065, u'_id': u'10314'}, {u'count': 1, u'_id': u'10314-3903'}, {u'count': 1451, u'_id': u'10451'}, {u'count': 1890, u'_id': u'10452'}, {u'count': 2490, u'_id': u'10453'}, {u'count': 2006, u'_id': u'10454'}, {u'count': 1, u'_id': u'10454-4606'}, {u'count': 2247, u'_id': u'10455'}, {u'count': 3388, u'_id': u'10456'}, {u'count': 3392, u'_id': u'10457'}, {u'count': 3370, u'_id': u'10458'}, {u'count': 2766, u'_id': u'10459'}, {u'count': 3234, u'_id': u'10460'}, {u'count': 8259, u'_id': u'10461'}, {u'count': 5198, u'_id': u'10462'}, {u'count': 2967, u'_id': u'10463'}, {u'count': 1615, u'_id': u'10464'}, {u'count': 9622, u'_id': u'10465'}, {u'count': 1, u'_id': u'10465-3826'}, {u'count': 9721, u'_id': u'10466'}, {u'count': 5558, u'_id': u'10467'}, {u'count': 2001, u'_id': u'10468'}, {u'count': 11585, u'_id': u'10469'}, {u'count': 2330, u'_id': u'10470'}, {u'count': 2383, u'_id': u'10471'}, {u'count': 4743, u'_id': u'10472'}, {u'count': 5248, u'_id': u'10473'}, {u'count': 1274, u'_id': u'10474'}, {u'count': 959, u'_id': u'10475'}, {u'count': 4, u'_id': u'10502'}, {u'count': 5, u'_id': u'10522'}, {u'count': 42, u'_id': u'10523'}, {u'count': 6, u'_id': u'10530'}, {u'count': 1, u'_id': u'10532'}, {u'count': 1, u'_id': u'10533'}, {u'count': 3, u'_id': u'10538'}, {u'count': 5, u'_id': u'10543'}, {u'count': 1, u'_id': u'10550'}, {u'count': 3, u'_id': u'10573'}, {u'count': 8, u'_id': u'10577'}, {u'count': 4, u'_id': u'10580'}, {u'count': 8, u'_id': u'10583'}, {u'count': 38, u'_id': u'10591'}, {u'count': 2, u'_id': u'10595'}, {u'count': 2, u'_id': u'10601'}, {u'count': 1, u'_id': u'10603'}, {u'count': 7, u'_id': u'10604'}, {u'count': 9, u'_id': u'10605'}, {u'count': 3, u'_id': u'10606'}, {u'count': 11, u'_id': u'10607'}, {u'count': 3, u'_id': u'10701'}, {u'count': 1, u'_id': u'10703'}, {u'count': 3, u'_id': u'10704'}, {u'count': 2, u'_id': u'10705'}, {u'count': 23, u'_id': u'10706'}, {u'count': 2, u'_id': u'10707'}, {u'count': 1, u'_id': u'10709'}, {u'count': 8, u'_id': u'10710'}, {u'count': 4, u'_id': u'10801'}, {u'count': 1, u'_id': u'10803'}, {u'count': 5, u'_id': u'10954'}, {u'count': 1, u'_id': u'10962'}, {u'count': 3, u'_id': u'10965'}, {u'count': 1, u'_id': u'10968'}, {u'count': 1, u'_id': u'10976'}, {u'count': 1, u'_id': u'10977'}, {u'count': 1, u'_id': u'10989'}, {u'count': 2, u'_id': u'11'}, {u'count': 1193, u'_id': u'11001'}, {u'count': 5, u'_id': u'11003'}, {u'count': 3466, u'_id': u'11004'}, {u'count': 157, u'_id': u'11005'}, {u'count': 5, u'_id': u'11021'}, {u'count': 13, u'_id': u'11023'}, {u'count': 3, u'_id': u'11024'}, {u'count': 5, u'_id': u'11030'}, {u'count': 807, u'_id': u'11040'}, {u'count': 2, u'_id': u'11042'}, {u'count': 9, u'_id': u'11050'}, {u'count': 45, u'_id': u'11096'}, {u'count': 4126, u'_id': u'11101'}, {u'count': 3072, u'_id': u'11102'}, {u'count': 4766, u'_id': u'11103'}, {u'count': 2044, u'_id': u'11104'}, {u'count': 5950, u'_id': u'11105'}, {u'count': 3600, u'_id': u'11106'}, {u'count': 14, u'_id': u'11109'}, {u'count': 1, u'_id': u'111743'}, {u'count': 1, u'_id': u'111756'}, {u'count': 3947, u'_id': u'11201'}, {u'count': 1, u'_id': u'11201-2483'}, {u'count': 1, u'_id': u'11201;11231'}, {u'count': 11774, u'_id': u'11203'}, {u'count': 9897, u'_id': u'11204'}, {u'count': 3247, u'_id': u'11205'}, {u'count': 5478, u'_id': u'11206'}, {u'count': 11180, u'_id': u'11207'}, {u'count': 11132, u'_id': u'11208'}, {u'count': 9212, u'_id': u'11209'}, {u'count': 9322, u'_id': u'11210'}, {u'count': 6378, u'_id': u'11211'}, {u'count': 6753, u'_id': u'11212'}, {u'count': 5315, u'_id': u'11213'}, {u'count': 10052, u'_id': u'11214'}, {u'count': 1, u'_id': u'11214;11223'}, {u'count': 9566, u'_id': u'11215'}, {u'count': 1, u'_id': u'11215-9993'}, {u'count': 6382, u'_id': u'11216'}, {u'count': 4522, u'_id': u'11217'}, {u'count': 7230, u'_id': u'11218'}, {u'count': 9474, u'_id': u'11219'}, {u'count': 9186, u'_id': u'11220'}, {u'count': 9399, u'_id': u'11221'}, {u'count': 6120, u'_id': u'11222'}, {u'count': 10759, u'_id': u'11223'}, {u'count': 2829, u'_id': u'11224'}, {u'count': 5, u'_id': u'11224-4003'}, {u'count': 4099, u'_id': u'11225'}, {u'count': 6144, u'_id': u'11226'}, {u'count': 8593, u'_id': u'11228'}, {u'count': 12543, u'_id': u'11229'}, {u'count': 8506, u'_id': u'11230'}, {u'count': 4917, u'_id': u'11231'}, {u'count': 1, u'_id': u'11231;11230'}, {u'count': 3217, u'_id': u'11232'}, {u'count': 1, u'_id': u'11232-2400'}, {u'count': 8013, u'_id': u'11233'}, {u'count': 20139, u'_id': u'11234'}, {u'count': 8620, u'_id': u'11235'}, {u'count': 15227, u'_id': u'11236'}, {u'count': 4566, u'_id': u'11237'}, {u'count': 4697, u'_id': u'11238'}, {u'count': 150, u'_id': u'11239'}, {u'count': 2008, u'_id': u'11249'}, {u'count': 3, u'_id': u'11251'}, {u'count': 5834, u'_id': u'11354'}, {u'count': 7310, u'_id': u'11355'}, {u'count': 4841, u'_id': u'11356'}, {u'count': 10366, u'_id': u'11357'}, {u'count': 9259, u'_id': u'11358'}, {u'count': 7, u'_id': u'11359'}, {u'count': 3397, u'_id': u'11360'}, {u'count': 6914, u'_id': u'11361'}, {u'count': 4392, u'_id': u'11362'}, {u'count': 2165, u'_id': u'11363'}, {u'count': 8249, u'_id': u'11364'}, {u'count': 7350, u'_id': u'11365'}, {u'count': 3626, u'_id': u'11366'}, {u'count': 6677, u'_id': u'11367'}, {u'count': 8101, u'_id': u'11368'}, {u'count': 5435, u'_id': u'11369'}, {u'count': 4660, u'_id': u'11370'}, {u'count': 1, u'_id': u'11371'}, {u'count': 3280, u'_id': u'11372'}, {u'count': 7526, u'_id': u'11373'}, {u'count': 3428, u'_id': u'11374'}, {u'count': 7740, u'_id': u'11375'}, {u'count': 9175, u'_id': u'11377'}, {u'count': 8132, u'_id': u'11378'}, {u'count': 8709, u'_id': u'11379'}, {u'count': 15091, u'_id': u'11385'}, {u'count': 5389, u'_id': u'11411'}, {u'count': 9086, u'_id': u'11412'}, {u'count': 9843, u'_id': u'11413'}, {u'count': 5664, u'_id': u'11414'}, {u'count': 1505, u'_id': u'11415'}, {u'count': 4135, u'_id': u'11416'}, {u'count': 5740, u'_id': u'11417'}, {u'count': 5297, u'_id': u'11418'}, {u'count': 7707, u'_id': u'11419'}, {u'count': 9192, u'_id': u'11420'}, {u'count': 6382, u'_id': u'11421'}, {u'count': 6844, u'_id': u'11422'}, {u'count': 5709, u'_id': u'11423'}, {u'count': 5266, u'_id': u'11426'}, {u'count': 4992, u'_id': u'11427'}, {u'count': 4429, u'_id': u'11428'}, {u'count': 5978, u'_id': u'11429'}, {u'count': 6, u'_id': u'11430'}, {u'count': 7350, u'_id': u'11432'}, {u'count': 6572, u'_id': u'11433'}, {u'count': 10706, u'_id': u'11434'}, {u'count': 6479, u'_id': u'11435'}, {u'count': 4327, u'_id': u'11436'}, {u'count': 5, u'_id': u'11451'}, {u'count': 1, u'_id': u'11471'}, {u'count': 34, u'_id': u'11501'}, {u'count': 1, u'_id': u'11514'}, {u'count': 10, u'_id': u'11530'}, {u'count': 2, u'_id': u'11530-2714'}, {u'count': 56, u'_id': u'11542'}, {u'count': 22, u'_id': u'115422'}, {u'count': 1, u'_id': u'11549'}, {u'count': 1, u'_id': u'11550'}, {u'count': 2, u'_id': u'11552'}, {u'count': 1, u'_id': u'11553'}, {u'count': 3, u'_id': u'11554'}, {u'count': 4, u'_id': u'11558'}, {u'count': 1, u'_id': u'11559'}, {u'count': 1451, u'_id': u'11560'}, {u'count': 1, u'_id': u'11560-1733'}, {u'count': 6, u'_id': u'11561'}, {u'count': 4, u'_id': u'11563'}, {u'count': 3, u'_id': u'11566'}, {u'count': 2, u'_id': u'11568'}, {u'count': 38, u'_id': u'11570'}, {u'count': 2, u'_id': u'11572'}, {u'count': 1, u'_id': u'11577'}, {u'count': 5, u'_id': u'11580'}, {u'count': 5, u'_id': u'11581'}, {u'count': 4, u'_id': u'11590'}, {u'count': 1, u'_id': u'11596'}, {u'count': 1, u'_id': u'11598'}, {u'count': 6356, u'_id': u'11691'}, {u'count': 1955, u'_id': u'11692'}, {u'count': 1936, u'_id': u'11693'}, {u'count': 4040, u'_id': u'11694'}, {u'count': 2742, u'_id': u'11697'}, {u'count': 3, u'_id': u'11701'}, {u'count': 3, u'_id': u'11702'}, {u'count': 10, u'_id': u'11704'}, {u'count': 12, u'_id': u'11706'}, {u'count': 4, u'_id': u'11709'}, {u'count': 3, u'_id': u'11710'}, {u'count': 55, u'_id': u'11714'}, {u'count': 3, u'_id': u'11717'}, {u'count': 3, u'_id': u'11721'}, {u'count': 5, u'_id': u'11724'}, {u'count': 2, u'_id': u'11725'}, {u'count': 1, u'_id': u'11726'}, {u'count': 6, u'_id': u'11729'}, {u'count': 9, u'_id': u'11731'}, {u'count': 1, u'_id': u'11731-1099'}, {u'count': 3, u'_id': u'11735'}, {u'count': 1, u'_id': u'11735-1211'}, {u'count': 4, u'_id': u'11740'}, {u'count': 13, u'_id': u'11743'}, {u'count': 10, u'_id': u'11746'}, {u'count': 5, u'_id': u'11747'}, {u'count': 1, u'_id': u'11753'}, {u'count': 10, u'_id': u'11754'}, {u'count': 181, u'_id': u'11756'}, {u'count': 3, u'_id': u'11757'}, {u'count': 3, u'_id': u'11758'}, {u'count': 2, u'_id': u'11762'}, {u'count': 22, u'_id': u'11768'}, {u'count': 1, u'_id': u'11771'}, {u'count': 1, u'_id': u'11783'}, {u'count': 5, u'_id': u'11787'}, {u'count': 6, u'_id': u'11788'}, {u'count': 9, u'_id': u'11791'}, {u'count': 47, u'_id': u'11793'}, {u'count': 5, u'_id': u'11797'}, {u'count': 1, u'_id': u'11798'}, {u'count': 151, u'_id': u'11801'}, {u'count': 29, u'_id': u'11803'}, {u'count': 1, u'_id': u'11804'}, {u'count': 1, u'_id': u'12'}, {u'count': 1, u'_id': u'19122'}, {u'count': 1, u'_id': u'2'}, {u'count': 1, u'_id': u'22645'}, {u'count': 1, u'_id': u'29201'}, {u'count': 1, u'_id': u'3'}, {u'count': 2, u'_id': u'320'}, {u'count': 1, u'_id': u'40299'}, {u'count': 1, u'_id': u'56'}, {u'count': 1, u'_id': u'61'}, {u'count': 1, u'_id': u'74'}, {u'count': 1, u'_id': u'75024'}, {u'count': 2, u'_id': u'83'}, {u'count': 1, u'_id': u'90745'}, {u'count': 1, u'_id': u'97657'}, {u'count': 1, u'_id': u'CT 06870'}, {u'count': 2, u'_id': u'NJ'}, {u'count': 1, u'_id': u'NJ 07001'}, {u'count': 1, u'_id': u'NJ 07036'}, {u'count': 1, u'_id': u'NJ 07065'}, {u'count': 1, u'_id': u'NJ 07086'}, {u'count': 1, u'_id': u'NJ 07102'}, {u'count': 1, u'_id': u'NJ 07105'}, {u'count': 1, u'_id': u'NJ 07652'}, {u'count': 1, u'_id': u'NJ 07747'}, {u'count': 1, u'_id': u'NY 10002'}, {u'count': 2, u'_id': u'NY 10003'}, {u'count': 1, u'_id': u'NY 10010'}, {u'count': 1, u'_id': u'NY 10026'}, {u'count': 2, u'_id': u'NY 10075'}, {u'count': 1, u'_id': u'NY 10111'}, {u'count': 1, u'_id': u'NY 10469'}, {u'count': 227, u'_id': u'NY 10533'}, {u'count': 1, u'_id': u'NY 10703'}, {u'count': 1, u'_id': u'NY 11106'}, {u'count': 1, u'_id': u'NY 11201'}, {u'count': 1, u'_id': u'NY 11221'}, {u'count': 1, u'_id': u'NY 11572'}, {u'count': 1, u'_id': u'NY 11580'}, {u'count': 1, u'_id': u'NY 11735'}, {u'count': 1, u'_id': u'NY 11758'}, {u'count': 1, u'_id': u'New York, NY 10065'}, {u'count': 1, u'_id': u'nj 07652'}]\n"
     ]
    }
   ],
   "source": [
    "\"\"\"\n",
    "Check Zip code\n",
    "\"\"\"\n",
    "def make_zip_pipeline():\n",
    "    \n",
    "    pipeline = [ \n",
    "        { \"$match\": { \"address.postcode\" : { \"$exists\" : True } } },\n",
    "        { \"$group\" : { \"_id\": \"$address.postcode\", \"count\" : {\"$sum\" : 1 }}},\n",
    "        { \"$sort\": {\"_id\":1 }} ]\n",
    "        #{ \"$sort\": {\"address.postcode\":-1 }},\n",
    "        #{ \"$limit\" : 1 } ]\n",
    "    return pipeline\n",
    "\n",
    "def aggregate(db, pipeline):\n",
    "    return [doc for doc in db.nyny.aggregate(pipeline)]\n",
    "\n",
    "\n",
    "#db = get_db()\n",
    "pipeline = make_zip_pipeline()\n",
    "result = aggregate(db, pipeline)\n",
    "#import pprint\n",
    "#pprint.pprint(result)\n",
    "print result"
   ]
  },
  {
   "cell_type": "code",
   "execution_count": 23,
   "metadata": {
    "collapsed": false
   },
   "outputs": [
    {
     "name": "stdout",
     "output_type": "stream",
     "text": [
      "[u'(718) 778-0140', u'07030-5774', u'07052 ', u'07054-1396', u'07302-4522', u'07305-9997', u'07506-1566', u'07834-2558', u'07834-2716', u'07940-2747', u'08854-3929', u'08854-5024', u'08854-5602', u'08854-5603', u'08854-5610', u'08854-5622', u'08854-5627', u'08854-5659', u'08854-5695', u'08854-8000', u'08854-8001', u'08854-8002', u'08854-8003', u'08854-8004', u'08854-8006', u'08854-8007', u'08854-8008', u'08854-8009', u'08854-8010', u'08854-8012', u'08854-8014', u'08854-8018', u'08854-8019', u'08854-8020', u'08854-8022', u'08854-8023', u'08854-8025', u'08854-8029', u'08854-8030', u'08854-8031', u'08854-8032', u'08854-8033', u'08854-8035', u'08854-8036', u'08854-8037', u'08854-8038', u'08854-8039', u'08854-8040', u'08854-8041', u'08854-8042', u'08854-8043', u'08854-8045', u'08854-8047', u'08854-8048', u'08854-8049', u'08854-8050', u'08854-8051', u'08854-8052', u'08854-8053', u'08854-8054', u'08854-8055', u'08854-8058', u'08854-8059', u'08854-8060', u'08854-8062', u'08854-8063', u'08854-8064', u'08854-8065', u'08854-8066', u'08854-8067', u'08854-8068', u'08854-8076', u'08901-1004', u'08901-1061', u'08901-1062', u'08901-1071', u'08901-1101', u'08901-1106', u'08901-1108', u'08901-1111', u'08901-1115', u'08901-1118', u'08901-1156', u'08901-1163', u'08901-1164', u'08901-1165', u'08901-1166', u'08901-1167', u'08901-1175', u'08901-1176', u'08901-1178', u'08901-1246', u'08901-1248', u'08901-1280', u'08901-1281', u'08901-1282', u'08901-1283', u'08901-1340', u'08901-1400', u'08901-1411', u'08901-1412', u'08901-1414', u'08901-1447', u'08901-1573', u'08901-1582', u'08901-1801', u'08901-1866', u'08901-1900', u'08901-1904', u'08901-1913', u'08901-1918', u'08901-2831', u'08901-2832', u'08901-2866', u'08901-2867', u'08901-2878', u'08901-2882', u'08901-2883', u'08901-2885', u'08901-2890', u'08901-8500', u'08901-8502', u'08901-8503', u'08901-8504', u'08901-8505', u'08901-8507', u'08901-8508', u'08901-8510', u'08901-8511', u'08901-8513', u'08901-8515', u'08901-8517', u'08901-8518', u'08901-8519', u'08901-8520', u'08901-8521', u'08901-8524', u'08901-8525', u'08901-8526', u'08901-8527', u'08901-8528', u'08901-8529', u'08901-8531', u'08901-8532', u'08901-8533', u'08901-8536', u'08901-8537', u'08901-8538', u'08901-8539', u'08901-8540', u'08901-8541', u'08901-8542', u'08901-8543', u'08901-8544', u'08901-8545', u'08901-8546', u'08901-8547', u'08901-8548', u'08901-8549', u'08901-8551', u'08901-8552', u'08901-8553', u'08901-8554', u'08901-8555', u'08901-8556', u'08901-8556;08901', u'08901-8557', u'08901-8558', u'10001-2062', u'100014', u'10002-1013', u'10011-6832', u'10012-3332', u'10016-0122', u'10017-6927', u'10018-3883', u'10018-4527', u'1011', u'10314-3903', u'10454-4606', u'10465-3826', u'11', u'111743', u'111756', u'11201-2483', u'11201;11231', u'11214;11223', u'11215-9993', u'11224-4003', u'11231;11230', u'11232-2400', u'11530-2714', u'115422', u'11560-1733', u'11731-1099', u'11735-1211', u'12', u'2', u'3', u'320', u'56', u'61', u'74', u'83', u'CT 06870', u'NJ', u'NJ 07001', u'NJ 07036', u'NJ 07065', u'NJ 07086', u'NJ 07102', u'NJ 07105', u'NJ 07652', u'NJ 07747', u'NY 10002', u'NY 10003', u'NY 10010', u'NY 10026', u'NY 10075', u'NY 10111', u'NY 10469', u'NY 10533', u'NY 10703', u'NY 11106', u'NY 11201', u'NY 11221', u'NY 11572', u'NY 11580', u'NY 11735', u'NY 11758', u'New York, NY 10065', u'nj 07652']\n",
      "{u'_id': ObjectId('58292f9903fb1722a4677e81'),\n",
      " u'address': {u'city': u'East Brunswick',\n",
      "              u'housenumber': u'15',\n",
      "              u'postcode': u'08816',\n",
      "              u'street': u'Fern Road'},\n",
      " u'amenity': u'place_of_worship',\n",
      " u'created': {u'changeset': u'27576517',\n",
      "              u'timestamp': u'2014-12-19T19:36:58Z',\n",
      "              u'uid': u'360392',\n",
      "              u'user': u'maxerickson',\n",
      "              u'version': u'3'},\n",
      " u'gnis': {u'feature_id': u'2041541'},\n",
      " u'id': u'357737107',\n",
      " u'name': u\"Temple B'nai Shalom\",\n",
      " u'phone': u'732-251-4300',\n",
      " u'pos': [40.3982828, -74.4211946],\n",
      " u'religion': u'jewish',\n",
      " u'type': u'node',\n",
      " u'website': u'http://bnaishalom.com/'}\n",
      "{u'_id': ObjectId('58292fd203fb1722a46f1849'),\n",
      " u'address': {u'postcode': u'08854', u'street': u'Plainfield Avenue'},\n",
      " u'amenity': u'restaurant',\n",
      " u'created': {u'changeset': u'11004223',\n",
      "              u'timestamp': u'2012-03-17T02:39:33Z',\n",
      "              u'uid': u'79406',\n",
      "              u'user': u'ghosthand',\n",
      "              u'version': u'3'},\n",
      " u'cuisine': u'pizza',\n",
      " u'id': u'777473702',\n",
      " u'name': u\"Romano's Pizza and Subs\",\n",
      " u'pos': [40.5380973, -74.4989347],\n",
      " u'type': u'node'}\n"
     ]
    }
   ],
   "source": [
    "\"\"\"\n",
    "Inspect records with bad zip codes\n",
    "\"\"\"\n",
    "wrong_length = [ rec['_id'] for rec in result if len(rec['_id']) != 5]\n",
    "print wrong_length\n",
    "\n",
    "check_zips = ['08816', '08854']\n",
    "\n",
    "for zip in (check_zips):\n",
    "    res = db.nyny.find_one({\"address.postcode\" : zip})\n",
    "    pprint.pprint(res)"
   ]
  },
  {
   "cell_type": "code",
   "execution_count": 5,
   "metadata": {
    "collapsed": false
   },
   "outputs": [],
   "source": [
    "\"\"\"\n",
    "Functions to get distinct values for a field and the count of each\n",
    "\"\"\"\n",
    "\n",
    "def make_distinct_with_count_pipeline( by_field ):    \n",
    "    pipeline = [ \n",
    "        { \"$match\": { by_field : { \"$exists\" : True } } },\n",
    "        { \"$group\" : { \"_id\": \"$\" + by_field , \"count\" : {\"$sum\" : 1 }}},\n",
    "        { \"$sort\" : { \"count\": -1 }},\n",
    "        { \"$limit\" : 20 } ]\n",
    "    return pipeline\n",
    "\n",
    "def aggregate(db, pipeline):\n",
    "    return [doc for doc in db.nyny.aggregate(pipeline)]\n",
    "\n",
    "def distinct_with_count(field_name):\n",
    "    #db = get_db()\n",
    "    pipeline = make_distinct_with_count_pipeline(field_name)\n",
    "    result = aggregate(db, pipeline)\n",
    "    return result\n"
   ]
  },
  {
   "cell_type": "code",
   "execution_count": 25,
   "metadata": {
    "collapsed": false
   },
   "outputs": [
    {
     "name": "stdout",
     "output_type": "stream",
     "text": [
      "[{u'count': 1538707, u'_id': u'way'}, {u'count': 9412590, u'_id': u'node'}]\n"
     ]
    }
   ],
   "source": [
    "result = distinct_with_count('type')\n",
    "print result"
   ]
  },
  {
   "cell_type": "code",
   "execution_count": 7,
   "metadata": {
    "collapsed": false
   },
   "outputs": [
    {
     "name": "stdout",
     "output_type": "stream",
     "text": [
      "Distinct address.state\n",
      "[{u'_id': u'NY', u'count': 7514},\n",
      " {u'_id': u'NJ', u'count': 2206},\n",
      " {u'_id': u'Nj', u'count': 534},\n",
      " {u'_id': u'CT', u'count': 137},\n",
      " {u'_id': u'New York', u'count': 37},\n",
      " {u'_id': u'ny', u'count': 35},\n",
      " {u'_id': u'New Jersey', u'count': 9},\n",
      " {u'_id': u'nj', u'count': 9},\n",
      " {u'_id': u'Ny', u'count': 6},\n",
      " {u'_id': u'ct', u'count': 4},\n",
      " {u'_id': u'Nj;NJ', u'count': 4},\n",
      " {u'_id': u'TX', u'count': 2},\n",
      " {u'_id': u'ON', u'count': 1},\n",
      " {u'_id': u'New York State', u'count': 1},\n",
      " {u'_id': u'VA', u'count': 1},\n",
      " {u'_id': u'BY', u'count': 1},\n",
      " {u'_id': u'CA', u'count': 1},\n",
      " {u'_id': u'NJ - New Jersey', u'count': 1},\n",
      " {u'_id': u'10009', u'count': 1}]\n",
      " \n",
      "Distinct source\n",
      "[{u'_id': u'NJ2002LULC', u'count': 7618},\n",
      " {u'_id': u'Bing', u'count': 5581},\n",
      " {u'_id': u'USGS Geonames', u'count': 2021},\n",
      " {u'_id': u'Yahoo', u'count': 1733},\n",
      " {u'_id': u'TIGER/Line\\xae 2008 Place Shapefiles (http://www.census.gov/geo/www/tiger/)',\n",
      "  u'count': 1713},\n",
      " {u'_id': u'BingSat and Mapillary.com', u'count': 1207},\n",
      " {u'_id': u'bing', u'count': 871},\n",
      " {u'_id': u'NJ 2002 LULC', u'count': 663},\n",
      " {u'_id': u'Rutgers', u'count': 604},\n",
      " {u'_id': u'PGS', u'count': 413},\n",
      " {u'_id': u'gps', u'count': 302},\n",
      " {u'_id': u'Microsoft Bing orbital imagery', u'count': 302},\n",
      " {u'_id': u'survey', u'count': 272},\n",
      " {u'_id': u'BingSat, site review in August 2016 and mapillary imagery',\n",
      "  u'count': 270},\n",
      " {u'_id': u'University of Connecticut (http://magic.lib.uconn.edu/connecticut_data.html)',\n",
      "  u'count': 269},\n",
      " {u'_id': u'NHD_import_v0.4_20091030113711', u'count': 170},\n",
      " {u'_id': u'local_knowledge', u'count': 119},\n",
      " {u'_id': u'Bing Imagery', u'count': 117},\n",
      " {u'_id': u'yahoo', u'count': 103},\n",
      " {u'_id': u'local knowledge', u'count': 100}]\n",
      " \n",
      "Distinct cuisine\n",
      "[{u'_id': u'coffee_shop', u'count': 299},\n",
      " {u'_id': u'burger', u'count': 293},\n",
      " {u'_id': u'pizza', u'count': 259},\n",
      " {u'_id': u'italian', u'count': 244},\n",
      " {u'_id': u'american', u'count': 202},\n",
      " {u'_id': u'mexican', u'count': 175},\n",
      " {u'_id': u'sandwich', u'count': 132},\n",
      " {u'_id': u'chinese', u'count': 128},\n",
      " {u'_id': u'donut', u'count': 97},\n",
      " {u'_id': u'indian', u'count': 74},\n",
      " {u'_id': u'japanese', u'count': 73},\n",
      " {u'_id': u'french', u'count': 59},\n",
      " {u'_id': u'ice_cream', u'count': 56},\n",
      " {u'_id': u'thai', u'count': 56},\n",
      " {u'_id': u'asian', u'count': 46},\n",
      " {u'_id': u'chicken', u'count': 42},\n",
      " {u'_id': u'sushi', u'count': 38},\n",
      " {u'_id': u'seafood', u'count': 34},\n",
      " {u'_id': u'regional', u'count': 29},\n",
      " {u'_id': u'steak_house', u'count': 27}]\n",
      " \n",
      "Distinct leisure\n",
      "[{u'_id': u'pitch', u'count': 6230},\n",
      " {u'_id': u'park', u'count': 3509},\n",
      " {u'_id': u'playground', u'count': 1219},\n",
      " {u'_id': u'swimming_pool', u'count': 680},\n",
      " {u'_id': u'garden', u'count': 513},\n",
      " {u'_id': u'sports_centre', u'count': 285},\n",
      " {u'_id': u'golf_course', u'count': 192},\n",
      " {u'_id': u'track', u'count': 160},\n",
      " {u'_id': u'stadium', u'count': 151},\n",
      " {u'_id': u'nature_reserve', u'count': 148},\n",
      " {u'_id': u'marina', u'count': 113},\n",
      " {u'_id': u'slipway', u'count': 73},\n",
      " {u'_id': u'picnic_table', u'count': 56},\n",
      " {u'_id': u'dog_park', u'count': 43},\n",
      " {u'_id': u'recreation_ground', u'count': 40},\n",
      " {u'_id': u'common', u'count': 34},\n",
      " {u'_id': u'ice_rink', u'count': 25},\n",
      " {u'_id': u'miniature_golf', u'count': 18},\n",
      " {u'_id': u'fitness_centre', u'count': 17},\n",
      " {u'_id': u'firepit', u'count': 16}]\n",
      " \n",
      "Distinct office\n",
      "[{u'_id': u'company', u'count': 83},\n",
      " {u'_id': u'yes', u'count': 42},\n",
      " {u'_id': u'government', u'count': 30},\n",
      " {u'_id': u'lawyer', u'count': 30},\n",
      " {u'_id': u'estate_agent', u'count': 22},\n",
      " {u'_id': u'insurance', u'count': 19},\n",
      " {u'_id': u'financial', u'count': 11},\n",
      " {u'_id': u'accountant', u'count': 9},\n",
      " {u'_id': u'ngo', u'count': 7},\n",
      " {u'_id': u'newspaper', u'count': 5},\n",
      " {u'_id': u'it', u'count': 5},\n",
      " {u'_id': u'administrative', u'count': 4},\n",
      " {u'_id': u'educational_institution', u'count': 4},\n",
      " {u'_id': u'architect', u'count': 4},\n",
      " {u'_id': u'physician', u'count': 4},\n",
      " {u'_id': u'research', u'count': 3},\n",
      " {u'_id': u'telecommunication', u'count': 3},\n",
      " {u'_id': u'association', u'count': 2},\n",
      " {u'_id': u'religion', u'count': 2},\n",
      " {u'_id': u'*', u'count': 1}]\n",
      " \n",
      "Distinct service\n",
      "[{u'_id': u'parking_aisle', u'count': 14238},\n",
      " {u'_id': u'driveway', u'count': 4200},\n",
      " {u'_id': u'yard', u'count': 2671},\n",
      " {u'_id': u'spur', u'count': 1296},\n",
      " {u'_id': u'crossover', u'count': 492},\n",
      " {u'_id': u'siding', u'count': 322},\n",
      " {u'_id': u'alley', u'count': 214},\n",
      " {u'_id': u'drive-through', u'count': 211},\n",
      " {u'_id': u'emergency_access', u'count': 32},\n",
      " {u'_id': u'cemetery', u'count': 15},\n",
      " {u'_id': {u'bicycle_data': {u'chain_tool': u'no'}}, u'count': 7},\n",
      " {u'_id': {u'bicycle_data': {u'rental': u'yes',\n",
      "                             u'repair': u'yes',\n",
      "                             u'retail': u'yes'}},\n",
      "  u'count': 4},\n",
      " {u'_id': u'Putnam Green', u'count': 3},\n",
      " {u'_id': u'bus_lane', u'count': 3},\n",
      " {u'_id': u'yes', u'count': 3},\n",
      " {u'_id': {u'bicycle_data': {u'repair': u'yes', u'retail': u'yes'}},\n",
      "  u'count': 2},\n",
      " {u'_id': u'Juniper Court', u'count': 2},\n",
      " {u'_id': u'highway', u'count': 1},\n",
      " {u'_id': u'Colden Street', u'count': 1},\n",
      " {u'_id': {u'bicycle_data': {u'pump': u'yes'}}, u'count': 1}]\n",
      " \n",
      "Distinct shop\n",
      "[{u'_id': u'supermarket', u'count': 637},\n",
      " {u'_id': u'convenience', u'count': 461},\n",
      " {u'_id': u'clothes', u'count': 459},\n",
      " {u'_id': u'yes', u'count': 184},\n",
      " {u'_id': u'car_repair', u'count': 183},\n",
      " {u'_id': u'department_store', u'count': 175},\n",
      " {u'_id': u'alcohol', u'count': 165},\n",
      " {u'_id': u'deli', u'count': 154},\n",
      " {u'_id': u'bakery', u'count': 151},\n",
      " {u'_id': u'hairdresser', u'count': 149},\n",
      " {u'_id': u'car', u'count': 148},\n",
      " {u'_id': u'laundry', u'count': 123},\n",
      " {u'_id': u'beauty', u'count': 117},\n",
      " {u'_id': u'mall', u'count': 103},\n",
      " {u'_id': u'shoes', u'count': 99},\n",
      " {u'_id': u'furniture', u'count': 93},\n",
      " {u'_id': u'mobile_phone', u'count': 87},\n",
      " {u'_id': u'dry_cleaning', u'count': 86},\n",
      " {u'_id': u'doityourself', u'count': 76},\n",
      " {u'_id': u'books', u'count': 75}]\n",
      " \n",
      "Distinct sport\n",
      "[{u'_id': u'baseball', u'count': 1986},\n",
      " {u'_id': u'tennis', u'count': 1533},\n",
      " {u'_id': u'basketball', u'count': 950},\n",
      " {u'_id': u'soccer', u'count': 592},\n",
      " {u'_id': u'american_football', u'count': 237},\n",
      " {u'_id': u'swimming', u'count': 156},\n",
      " {u'_id': u'golf', u'count': 149},\n",
      " {u'_id': u'handball', u'count': 110},\n",
      " {u'_id': u'athletics', u'count': 106},\n",
      " {u'_id': u'equestrian', u'count': 72},\n",
      " {u'_id': u'team_handball', u'count': 53},\n",
      " {u'_id': u'multi', u'count': 52},\n",
      " {u'_id': u'volleyball', u'count': 38},\n",
      " {u'_id': u'hockey', u'count': 30},\n",
      " {u'_id': u'running', u'count': 26},\n",
      " {u'_id': u'shooting', u'count': 23},\n",
      " {u'_id': u'racquet', u'count': 19},\n",
      " {u'_id': u'skateboard', u'count': 16},\n",
      " {u'_id': u'football', u'count': 13},\n",
      " {u'_id': u'cricket', u'count': 10}]\n",
      " \n"
     ]
    }
   ],
   "source": [
    "import pprint\n",
    "get_distincts = [\"address.state\", \"source\", \"cuisine\", \"leisure\", \"office\", \"service\", \"shop\", \"sport\"]\n",
    "\n",
    "for field_name in get_distincts:\n",
    "    print \"Distinct\", field_name\n",
    "    pprint.pprint (distinct_with_count(field_name))\n",
    "    print \" \"\n"
   ]
  },
  {
   "cell_type": "code",
   "execution_count": 10,
   "metadata": {
    "collapsed": false
   },
   "outputs": [
    {
     "ename": "IndentationError",
     "evalue": "unexpected indent (<ipython-input-10-24fa40409ff7>, line 6)",
     "output_type": "error",
     "traceback": [
      "\u001b[1;36m  File \u001b[1;32m\"<ipython-input-10-24fa40409ff7>\"\u001b[1;36m, line \u001b[1;32m6\u001b[0m\n\u001b[1;33m    return pipeline\u001b[0m\n\u001b[1;37m    ^\u001b[0m\n\u001b[1;31mIndentationError\u001b[0m\u001b[1;31m:\u001b[0m unexpected indent\n"
     ]
    }
   ],
   "source": [
    "\"\"\"\n",
    "Functions to count the distinct values for a field\n",
    "\"\"\"\n",
    "\n",
    "z\n",
    "    return pipeline\n",
    "\n",
    "def aggregate(db, pipeline):\n",
    "    return [doc for doc in db.nyny.aggregate(pipeline)]\n",
    "\n",
    "def count_distinct(field_name):\n",
    "    #db = get_db()\n",
    "    pipeline = make_countdistinct_pipeline(field_name)\n",
    "    result = aggregate(db, pipeline)\n",
    "    return result[0]\n"
   ]
  },
  {
   "cell_type": "code",
   "execution_count": 9,
   "metadata": {
    "collapsed": false
   },
   "outputs": [
    {
     "name": "stdout",
     "output_type": "stream",
     "text": [
      "Distinct amenity\n",
      "[{u'_id': u'parking', u'count': 7061},\n",
      " {u'_id': u'bicycle_parking', u'count': 4874},\n",
      " {u'_id': u'school', u'count': 4703},\n",
      " {u'_id': u'place_of_worship', u'count': 4694},\n",
      " {u'_id': u'restaurant', u'count': 3313},\n",
      " {u'_id': u'fast_food', u'count': 1077},\n",
      " {u'_id': u'cafe', u'count': 990},\n",
      " {u'_id': u'bank', u'count': 800},\n",
      " {u'_id': u'fire_station', u'count': 690},\n",
      " {u'_id': u'bench', u'count': 592},\n",
      " {u'_id': u'fuel', u'count': 549},\n",
      " {u'_id': u'library', u'count': 496},\n",
      " {u'_id': u'pharmacy', u'count': 450},\n",
      " {u'_id': u'toilets', u'count': 450},\n",
      " {u'_id': u'hospital', u'count': 435},\n",
      " {u'_id': u'bar', u'count': 416},\n",
      " {u'_id': u'post_office', u'count': 403},\n",
      " {u'_id': u'bicycle_rental', u'count': 400},\n",
      " {u'_id': u'grave_yard', u'count': 349},\n",
      " {u'_id': u'parking_space', u'count': 331}]\n",
      "Distinct  created.user created.user  - count 3852\n",
      "Distinct  address.postcode address.postcode  - count 765\n",
      "Distinct  address.city address.city  - count 430\n",
      "Distinct  source source  - count 436\n"
     ]
    }
   ],
   "source": [
    "print \"Distinct\", 'amenity'\n",
    "pprint.pprint (distinct_with_count('amenity'))\n",
    "    \n",
    "def print_count_distincts(fields):\n",
    "    for field_name in fields:\n",
    "        #pprint.pprint(get_top(field_name))\n",
    "        count_dist = count_distinct(field_name)\n",
    "        print \"Distinct \", field_name, count_dist['_id'], ' - count', count_dist['count']\n",
    "\n",
    "get_count_distincts_fields = ['created.user', 'address.postcode', 'address.city', 'source']\n",
    "print_count_distincts(get_count_distincts_fields)"
   ]
  },
  {
   "cell_type": "code",
   "execution_count": null,
   "metadata": {
    "collapsed": true
   },
   "outputs": [],
   "source": []
  },
  {
   "cell_type": "code",
   "execution_count": 11,
   "metadata": {
    "collapsed": false
   },
   "outputs": [
    {
     "name": "stdout",
     "output_type": "stream",
     "text": [
      "Top created.user Rub21_nycbuildings  - count 4889620\n",
      "Top address.postcode 10314  - count 23065\n",
      "Top address.city New York  - count 5185\n",
      "Top amenity parking  - count 7061\n"
     ]
    }
   ],
   "source": [
    "\"\"\"\n",
    "Functions to get top value for a field and the count of each\n",
    "\"\"\"\n",
    "\n",
    "def make_get_top_pipeline( by_field ):    \n",
    "    pipeline = [ \n",
    "        { \"$match\": { by_field : { \"$exists\" : True } } },\n",
    "        { \"$group\" : { \"_id\": \"$\" + by_field , \"count\" : {\"$sum\" : 1 }}},\n",
    "        { \"$sort\": { \"count\" :-1 }},\n",
    "        { \"$limit\" : 1 } ]\n",
    "    return pipeline\n",
    "\n",
    "def get_top(field_name):\n",
    "    #db = get_db()\n",
    "    pipeline = make_get_top_pipeline(field_name)\n",
    "    result = aggregate(db, pipeline)\n",
    "    return result[0]\n",
    "\n",
    "def print_tops(fields):\n",
    "    for field_name in fields:\n",
    "        #pprint.pprint(get_top(field_name))\n",
    "        top = get_top(field_name)\n",
    "        print \"Top\", field_name, top['_id'], ' - count', top['count']\n",
    "\n",
    "#import pprint\n",
    "#pprint.pprint(result)\n",
    "get_top_fields = ['created.user', 'address.postcode', 'address.city', 'amenity']\n",
    "print_tops(get_top_fields)"
   ]
  },
  {
   "cell_type": "raw",
   "metadata": {
    "collapsed": false
   },
   "source": [
    "# ****************** These entries are disabled, but illustrate a failed attempt at finding\n",
    "# ****************** matches between the address data and the tiger street data\n",
    "# ****************** Since joining wasn't an option in the version of Mongo DB I was using,\n",
    "# ****************** This solution queries the smaller tiger set, then iterates and\n",
    "# ****************** For each, query mongodb for a matching or similar street name\n",
    "# ****************** This solution doesn't work well, for example matches 5th st with 125th st\n",
    "\n",
    "res = db.nyny.find({\"$and\":[{\"tiger.name_base\" : {\"$exists\": True }}, \n",
    "                              {\"address.street\": {\"$exists\": True}} ] })\n",
    "print res.count()\n",
    "#for rec in res:\n",
    "#    pprint.pprint (rec)\n",
    "\n",
    "res = db.nyny.find_one({\"tiger.name_base\": {\"$exists\": True}})\n",
    "pprint.pprint(res)\n",
    "\n",
    "matchy = db.nyny.find({\"address.street\": {\"$regex\" : \"82\"} })\n",
    "print matchy.count()\n",
    "for rec in matchy: pprint.pprint (rec)"
   ]
  },
  {
   "cell_type": "raw",
   "metadata": {
    "collapsed": false
   },
   "source": [
    "def cross_check_ways ():\n",
    "    no_match = {}\n",
    "    maybe_match = {}\n",
    "    res = db.nyny.find({\"tiger.name_base\": {\"$exists\": True}})\n",
    "    print \"tiger #\", res.count()\n",
    "    for rec in res:\n",
    "        name = rec[\"tiger\"][\"name_base\"]\n",
    "        matchy = db.nyny.find({\"address.street\": {\"$regex\" : name} })\n",
    "        if matchy.count()>0: \n",
    "            if name not in maybe_match: \n",
    "                maybe_match[name] = [a for a in matchy]\n",
    "            maybe_match[name].insert(0,rec)\n",
    "        else: no_match[name] = rec\n",
    "            \n",
    "    print \"maybe match #\", len(maybe_match)\n",
    "    print \"no match #\", len(no_match)\n",
    "    return maybe_match, no_match\n",
    "\n",
    "(maybe_match, no_match) = cross_check_ways()\n",
    "#pprint.pprint(maybe_match[maybe_match.keys()[0]])\n"
   ]
  },
  {
   "cell_type": "raw",
   "metadata": {
    "collapsed": false
   },
   "source": [
    "for street in maybe_match.keys() [:2]:\n",
    "    print '*****  ' , street, '  *****'\n",
    "    for rec in maybe_match[street]:\n",
    "        try: \n",
    "            x = rec['address']['street'] + ' ' + '(address)'\n",
    "            print x\n",
    "        except: pass\n",
    "        try:\n",
    "            x = rec['tiger']['name_direction_prefix']+ ' ' + rec['tiger']['name_base']+ ' ' +  rec['tiger']['name_type']+ ' ' +  '(tiger)'\n",
    "            print x\n",
    "        except: pass\n",
    "        try:\n",
    "            x = rec['tiger']['name_base']+ ' ' +  rec['tiger']['name_type']+ ' ' +  '(tiger)'\n",
    "            print x\n",
    "        except: pass    \n",
    "    "
   ]
  },
  {
   "cell_type": "code",
   "execution_count": null,
   "metadata": {
    "collapsed": true
   },
   "outputs": [],
   "source": []
  }
 ],
 "metadata": {
  "kernelspec": {
   "display_name": "Python 2",
   "language": "python",
   "name": "python2"
  },
  "language_info": {
   "codemirror_mode": {
    "name": "ipython",
    "version": 2
   },
   "file_extension": ".py",
   "mimetype": "text/x-python",
   "name": "python",
   "nbconvert_exporter": "python",
   "pygments_lexer": "ipython2",
   "version": "2.7.11"
  }
 },
 "nbformat": 4,
 "nbformat_minor": 0
}
